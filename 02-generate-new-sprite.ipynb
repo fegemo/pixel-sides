{
 "cells": [
  {
   "cell_type": "markdown",
   "id": "ca77a23f-7dec-4d6c-8cb9-3e73cd257a99",
   "metadata": {
    "pycharm": {
     "name": "#%% md\n"
    }
   },
   "source": [
    "# Gerando novos personagens com uma DCGAN\n",
    "\n",
    ".\n",
    "\n",
    "Este _notebook_ é parte do trabalho [pixel sides](pixel-sides.ipynb). Ele descreve um experimento de criação de \n",
    "uma **rede generativa adversarial convolucional profunda** (DCGAN) para **gerar novas imagens de personagens**\n",
    "em _pixel art_ dado o conjunto de dados TinyHero."
   ]
  },
  {
   "cell_type": "code",
   "execution_count": 1,
   "id": "d1cdc2b8-da44-4032-9a7b-069475a10765",
   "metadata": {
    "pycharm": {
     "name": "#%%\n"
    }
   },
   "outputs": [],
   "source": [
    "import tensorflow as tf\n",
    "import glob\n",
    "import imageio\n",
    "import matplotlib.pyplot as plt\n",
    "import numpy as np\n",
    "import os\n",
    "import PIL\n",
    "from tensorflow.keras import layers\n",
    "import time\n",
    "\n",
    "from IPython import display"
   ]
  },
  {
   "cell_type": "code",
   "execution_count": 2,
   "id": "dfbe6c3a-835c-47b7-a92c-a92a9f6e9fcf",
   "metadata": {
    "pycharm": {
     "name": "#%%\n"
    }
   },
   "outputs": [],
   "source": [
    "SEED = 42\n",
    "\n",
    "DATA_FOLDER = os.sep.join([\"datasets\", \"tiny-hero\"])\n",
    "POSE_FOLDER_NAMES = [\"0-back\", \"1-left\", \"2-front\", \"3-right\"]\n",
    "\n",
    "IMAGE_SIZE = 64\n",
    "CHANNELS = 4\n",
    "\n",
    "BUFFER_SIZE = 3648\n",
    "BATCH_SIZE = 128\n",
    "\n",
    "NOISE_SIZE = 100"
   ]
  },
  {
   "cell_type": "markdown",
   "id": "7c733cd7-2f6b-45eb-a74d-8c24ac59f491",
   "metadata": {
    "pycharm": {
     "name": "#%% md\n"
    }
   },
   "source": [
    "## Carregando o _dataset_\n",
    "\n",
    "Criando o _dataset_ a partir das imagens nos diretórios especificados acima:"
   ]
  },
  {
   "cell_type": "code",
   "execution_count": 3,
   "outputs": [],
   "source": [
    "# tf.keras.utils.image_dataset_from_directory(\n",
    "#     os.sep.join([DATA_FOLDER]),\n",
    "#     labels='inferred',\n",
    "#     label_mode='int',\n",
    "#     class_names=None,\n",
    "#     color_mode='rgb',\n",
    "#     batch_size=32,\n",
    "#     image_size=(256, 256),\n",
    "#     shuffle=True,\n",
    "#     seed=None,\n",
    "#     validation_split=None,\n",
    "#     subset=None,\n",
    "#     interpolation='bilinear',\n",
    "#     follow_links=False,\n",
    "#     crop_to_aspect_ratio=False,\n",
    "#     **kwargs\n",
    "# )"
   ],
   "metadata": {
    "collapsed": false,
    "pycharm": {
     "name": "#%%\n"
    }
   }
  },
  {
   "cell_type": "code",
   "execution_count": 4,
   "id": "190f41df-d276-4df6-a23e-dfd7d81344c2",
   "metadata": {
    "pycharm": {
     "name": "#%%\n"
    }
   },
   "outputs": [
    {
     "name": "stdout",
     "output_type": "stream",
     "text": [
      "(3648, 64, 64, 4)\n",
      "(3648,)\n"
     ]
    }
   ],
   "source": [
    "X = np.ndarray(shape=(0, IMAGE_SIZE, IMAGE_SIZE, CHANNELS))\n",
    "for i, folder in enumerate(POSE_FOLDER_NAMES):\n",
    "    filelist = glob.glob(os.path.join(DATA_FOLDER, folder, \"*.png\"))\n",
    "    x = np.array([np.array(PIL.Image.open(fname)) for fname in filelist])\n",
    "    X = np.concatenate((X, x))\n",
    "    y = np.full((X.shape[0],), i)\n",
    "print(X.shape)\n",
    "print(y.shape)\n",
    "X = X.reshape(X.shape[0], IMAGE_SIZE, IMAGE_SIZE, CHANNELS).astype('float32')\n",
    "X = (X - 127.5) / 127.5\n",
    "\n",
    "\n",
    "X = tf.data.Dataset.from_tensor_slices(X).shuffle(BUFFER_SIZE).batch(BATCH_SIZE)"
   ]
  },
  {
   "cell_type": "code",
   "execution_count": 5,
   "id": "7f6ec118-03c2-4a5e-be55-cb091437f2c8",
   "metadata": {
    "pycharm": {
     "name": "#%%\n"
    }
   },
   "outputs": [],
   "source": [
    "def denormalize_image(image):\n",
    "    return (image + 1) / 2\n",
    "\n",
    "def show_image(image):\n",
    "    plt.imshow(image, interpolation=\"nearest\")\n",
    "    \n",
    "def show_normalized_image(image):\n",
    "    show_image(denormalize_image(image))"
   ]
  },
  {
   "cell_type": "markdown",
   "id": "edbdefb0-a558-4ae5-b47b-f7ab819ae577",
   "metadata": {
    "pycharm": {
     "name": "#%% md\n"
    }
   },
   "source": [
    "## Gerador\n",
    "\n",
    "A rede geradora foi criada como uma sequência de 3 \"deconvoluções\" com normalização em _batch_ para auxiliar com\n",
    "a possibilidade de problemas de _vanishing gradients_ e ativação com _LeakyReLU_. Ele recebe um vetor de ruído com\n",
    "100 valores entre $\\{-1, +1\\}$ sorteados com distribuição normal centralizada em $0$.\n",
    "\n",
    "A ativação da última camada usa tangente hiperbólica para gerar números entre $\\{-1, +1\\}$."
   ]
  },
  {
   "cell_type": "code",
   "execution_count": 6,
   "id": "04b9feb1-4b4c-4710-8c4d-4ff3b3c712f9",
   "metadata": {
    "pycharm": {
     "name": "#%%\n"
    }
   },
   "outputs": [
    {
     "name": "stderr",
     "output_type": "stream",
     "text": [
      "D:\\Projetos 2\\pixel-sides\\venv\\lib\\site-packages\\tensorflow_addons\\utils\\ensure_tf_install.py:53: UserWarning: Tensorflow Addons supports using Python ops for all Tensorflow versions above or equal to 2.6.0 and strictly below 2.9.0 (nightly versions are not supported). \n",
      " The versions of TensorFlow you are currently using is 2.9.0 and is not supported. \n",
      "Some things might work, some things might not.\n",
      "If you were to encounter a bug, do not file an issue.\n",
      "If you want to make sure you're using a tested and supported configuration, either change the TensorFlow version or the TensorFlow Addons's version. \n",
      "You can find the compatibility matrix in TensorFlow Addon's readme:\n",
      "https://github.com/tensorflow/addons\n",
      "  warnings.warn(\n"
     ]
    },
    {
     "name": "stdout",
     "output_type": "stream",
     "text": [
      "Model: \"Gerador\"\n",
      "_________________________________________________________________\n",
      " Layer (type)                Output Shape              Param #   \n",
      "=================================================================\n",
      " dense (Dense)               (None, 512)               51200     \n",
      "                                                                 \n",
      " leaky_re_lu (LeakyReLU)     (None, 512)               0         \n",
      "                                                                 \n",
      " reshape (Reshape)           (None, 1, 1, 512)         0         \n",
      "                                                                 \n",
      " conv2d_transpose (Conv2DTra  (None, 2, 2, 512)        4194304   \n",
      " nspose)                                                         \n",
      "                                                                 \n",
      " instance_normalization (Ins  (None, 2, 2, 512)        1024      \n",
      " tanceNormalization)                                             \n",
      "                                                                 \n",
      " dropout (Dropout)           (None, 2, 2, 512)         0         \n",
      "                                                                 \n",
      " leaky_re_lu_1 (LeakyReLU)   (None, 2, 2, 512)         0         \n",
      "                                                                 \n",
      " conv2d_transpose_1 (Conv2DT  (None, 4, 4, 512)        4194304   \n",
      " ranspose)                                                       \n",
      "                                                                 \n",
      " instance_normalization_1 (I  (None, 4, 4, 512)        1024      \n",
      " nstanceNormalization)                                           \n",
      "                                                                 \n",
      " dropout_1 (Dropout)         (None, 4, 4, 512)         0         \n",
      "                                                                 \n",
      " leaky_re_lu_2 (LeakyReLU)   (None, 4, 4, 512)         0         \n",
      "                                                                 \n",
      " conv2d_transpose_2 (Conv2DT  (None, 8, 8, 256)        2097152   \n",
      " ranspose)                                                       \n",
      "                                                                 \n",
      " instance_normalization_2 (I  (None, 8, 8, 256)        512       \n",
      " nstanceNormalization)                                           \n",
      "                                                                 \n",
      " dropout_2 (Dropout)         (None, 8, 8, 256)         0         \n",
      "                                                                 \n",
      " leaky_re_lu_3 (LeakyReLU)   (None, 8, 8, 256)         0         \n",
      "                                                                 \n",
      " conv2d_transpose_3 (Conv2DT  (None, 16, 16, 128)      524288    \n",
      " ranspose)                                                       \n",
      "                                                                 \n",
      " instance_normalization_3 (I  (None, 16, 16, 128)      256       \n",
      " nstanceNormalization)                                           \n",
      "                                                                 \n",
      " leaky_re_lu_4 (LeakyReLU)   (None, 16, 16, 128)       0         \n",
      "                                                                 \n",
      " conv2d_transpose_4 (Conv2DT  (None, 32, 32, 64)       131072    \n",
      " ranspose)                                                       \n",
      "                                                                 \n",
      " instance_normalization_4 (I  (None, 32, 32, 64)       128       \n",
      " nstanceNormalization)                                           \n",
      "                                                                 \n",
      " leaky_re_lu_5 (LeakyReLU)   (None, 32, 32, 64)        0         \n",
      "                                                                 \n",
      " conv2d_transpose_5 (Conv2DT  (None, 64, 64, 4)        4096      \n",
      " ranspose)                                                       \n",
      "                                                                 \n",
      "=================================================================\n",
      "Total params: 11,199,360\n",
      "Trainable params: 11,199,360\n",
      "Non-trainable params: 0\n",
      "_________________________________________________________________\n"
     ]
    },
    {
     "data": {
      "text/plain": "<matplotlib.image.AxesImage at 0x1dc17685f40>"
     },
     "execution_count": 6,
     "metadata": {},
     "output_type": "execute_result"
    },
    {
     "data": {
      "text/plain": "<Figure size 432x288 with 1 Axes>",
      "image/png": "[encoded data removed]"
     },
     "metadata": {
      "needs_background": "light"
     },
     "output_type": "display_data"
    }
   ],
   "source": [
    "from tensorflow_addons import layers as tfalayers\n",
    "\n",
    "\n",
    "def make_generator_model():\n",
    "    init = tf.random_normal_initializer(0., 0.02)\n",
    "    return tf.keras.Sequential([\n",
    "        layers.Dense(1*1*512, use_bias=False, input_shape=(NOISE_SIZE,)),\n",
    "        layers.LeakyReLU(),\n",
    "        layers.Reshape((1, 1, 512)),\n",
    "        \n",
    "        layers.Conv2DTranspose(512, 4, strides=2, padding=\"same\", use_bias=False, kernel_initializer=init),\n",
    "        tfalayers.InstanceNormalization(),\n",
    "        layers.Dropout(0.5),\n",
    "        layers.LeakyReLU(),\n",
    "        \n",
    "        layers.Conv2DTranspose(512, 4, strides=2, padding=\"same\", use_bias=False, kernel_initializer=init),\n",
    "        tfalayers.InstanceNormalization(),\n",
    "        layers.Dropout(0.5),\n",
    "        layers.LeakyReLU(),\n",
    "\n",
    "        layers.Conv2DTranspose(256, 4, strides=2, padding=\"same\", use_bias=False, kernel_initializer=init),\n",
    "        tfalayers.InstanceNormalization(),\n",
    "        layers.Dropout(0.5),\n",
    "        layers.LeakyReLU(),\n",
    "        \n",
    "        layers.Conv2DTranspose(128, 4, strides=2, padding=\"same\", use_bias=False, kernel_initializer=init),\n",
    "        tfalayers.InstanceNormalization(),\n",
    "        layers.LeakyReLU(),\n",
    "\n",
    "        layers.Conv2DTranspose(64, 4, strides=2, padding=\"same\", use_bias=False, kernel_initializer=init),\n",
    "        tfalayers.InstanceNormalization(),\n",
    "        layers.LeakyReLU(),\n",
    "\n",
    "        layers.Conv2DTranspose(4, 4, strides=2, padding=\"same\", use_bias=False, kernel_initializer=init, activation=\"tanh\")\n",
    "    ], name=\"Gerador\")\n",
    "\n",
    "\n",
    "\n",
    "generator = make_generator_model()\n",
    "generator.summary()\n",
    "\n",
    "noise = tf.random.normal([1, NOISE_SIZE])\n",
    "sample_generated_image = generator(noise, training=False)\n",
    "\n",
    "plt.imshow(sample_generated_image[0, :, :, 0], cmap=\"gray\")\n",
    "\n",
    "# noise = tf.random.normal([1, NOISE_SIZE], seed=SEED)\n",
    "# sample_generated_image = generator(noise, training=False)\n",
    "\n",
    "# show_normalized_image(sample_generated_image[0])\n"
   ]
  },
  {
   "cell_type": "markdown",
   "id": "21cee143-3cde-4ce2-baa1-f592609de292",
   "metadata": {
    "pycharm": {
     "name": "#%% md\n"
    }
   },
   "source": [
    "## Discriminador\n",
    "\n",
    "A rede discriminadora é uma rede neural convolucional com 2 sequências de camadas de convolução e _max pooling_ e uma final totalmente conectada.\n",
    "A ativação usada também é _LeakyReLU_ e para regularização foi usada a técnica _dropout_ com probabilidades baixas."
   ]
  },
  {
   "cell_type": "code",
   "execution_count": 7,
   "id": "75b8a8cc-47a0-49c5-8bd3-f7ce42335aec",
   "metadata": {
    "pycharm": {
     "name": "#%%\n"
    }
   },
   "outputs": [
    {
     "name": "stdout",
     "output_type": "stream",
     "text": [
      "Model: \"Discriminador\"\n",
      "_________________________________________________________________\n",
      " Layer (type)                Output Shape              Param #   \n",
      "=================================================================\n",
      " conv2d (Conv2D)             (None, 32, 32, 64)        6464      \n",
      "                                                                 \n",
      " leaky_re_lu_6 (LeakyReLU)   (None, 32, 32, 64)        0         \n",
      "                                                                 \n",
      " dropout_3 (Dropout)         (None, 32, 32, 64)        0         \n",
      "                                                                 \n",
      " conv2d_1 (Conv2D)           (None, 16, 16, 128)       204928    \n",
      "                                                                 \n",
      " leaky_re_lu_7 (LeakyReLU)   (None, 16, 16, 128)       0         \n",
      "                                                                 \n",
      " dropout_4 (Dropout)         (None, 16, 16, 128)       0         \n",
      "                                                                 \n",
      " conv2d_2 (Conv2D)           (None, 8, 8, 256)         819456    \n",
      "                                                                 \n",
      " leaky_re_lu_8 (LeakyReLU)   (None, 8, 8, 256)         0         \n",
      "                                                                 \n",
      " dropout_5 (Dropout)         (None, 8, 8, 256)         0         \n",
      "                                                                 \n",
      " conv2d_3 (Conv2D)           (None, 1, 1, 1)           16385     \n",
      "                                                                 \n",
      " leaky_re_lu_9 (LeakyReLU)   (None, 1, 1, 1)           0         \n",
      "                                                                 \n",
      " reshape_1 (Reshape)         (None, 1)                 0         \n",
      "                                                                 \n",
      "=================================================================\n",
      "Total params: 1,047,233\n",
      "Trainable params: 1,047,233\n",
      "Non-trainable params: 0\n",
      "_________________________________________________________________\n",
      "tf.Tensor([[-0.01422236]], shape=(1, 1), dtype=float32)\n"
     ]
    }
   ],
   "source": [
    "def build_discriminator():\n",
    "    init = tf.random_normal_initializer(0., 0.02)\n",
    "\n",
    "    return tf.keras.Sequential([\n",
    "        layers.Conv2D(64, 5, strides=2, padding=\"same\", input_shape=(IMAGE_SIZE, IMAGE_SIZE, 4), kernel_initializer=init),\n",
    "        layers.LeakyReLU(),\n",
    "        layers.Dropout(0.3),\n",
    "        \n",
    "        layers.Conv2D(128, 5, strides=2, padding=\"same\", kernel_initializer=init),\n",
    "        layers.LeakyReLU(),\n",
    "        layers.Dropout(0.2),\n",
    "\n",
    "        layers.Conv2D(256, 5, strides=2, padding=\"same\", kernel_initializer=init),\n",
    "        layers.LeakyReLU(),\n",
    "        layers.Dropout(0.2),\n",
    "\n",
    "        layers.Conv2D(1, 8, strides=1, kernel_initializer=init),\n",
    "        layers.LeakyReLU(),\n",
    "        # layers.Conv2D(1, 1),\n",
    "        layers.Reshape(target_shape=[1])\n",
    "        # layers.Flatten(),\n",
    "        # layers.Dense(1)\n",
    "    ], name=\"Discriminador\")\n",
    "\n",
    "discriminator = build_discriminator()\n",
    "discriminator.summary()\n",
    "\n",
    "decision = discriminator(sample_generated_image)\n",
    "print(decision)"
   ]
  },
  {
   "cell_type": "markdown",
   "id": "2fe0aa7a-a352-40a7-ab68-7fa86d8450e7",
   "metadata": {
    "pycharm": {
     "name": "#%% md\n"
    }
   },
   "source": [
    "## Treinamento"
   ]
  },
  {
   "cell_type": "code",
   "execution_count": 8,
   "id": "890bc04e-49e8-4c2e-8498-78343b531c25",
   "metadata": {
    "pycharm": {
     "name": "#%%\n"
    }
   },
   "outputs": [],
   "source": [
    "from side2side_model import WassersteinLoss\n",
    "cross_entropy = tf.keras.losses.BinaryCrossentropy(from_logits=True)\n",
    "wasserstein = WassersteinLoss()\n",
    "generator_optimizer = tf.keras.optimizers.Adam(0.0001, beta_1=0.9, beta_2=0.999)\n",
    "discriminator_optimizer = tf.keras.optimizers.Adam(0.0001, beta_1=0.9, beta_2=0.999)\n",
    "\n",
    "loss = wasserstein\n",
    "\n",
    "def discriminator_loss(real_output, fake_output, gradient_penalty):\n",
    "    real_loss = loss(tf.ones_like(real_output), real_output)\n",
    "    fake_loss = loss(tf.zeros_like(fake_output), fake_output)\n",
    "    total_loss = real_loss + fake_loss + 10. * gradient_penalty\n",
    "    return total_loss\n",
    "\n",
    "def generator_loss(fake_output):\n",
    "    return loss(tf.ones_like(fake_output), fake_output)\n"
   ]
  },
  {
   "cell_type": "markdown",
   "id": "6e7e6154-9ca1-4498-b52c-361bcd9a4f12",
   "metadata": {
    "pycharm": {
     "name": "#%% md\n"
    }
   },
   "source": [
    "A seguir, algumas configurações do treinamento e avaliação:"
   ]
  },
  {
   "cell_type": "code",
   "execution_count": 9,
   "id": "104a1e32-ff3a-4079-a7d5-d2b1897aae6c",
   "metadata": {
    "pycharm": {
     "name": "#%%\n"
    }
   },
   "outputs": [],
   "source": [
    "EPOCHS = 250\n",
    "EXAMPLES_TO_PREVIEW = 16\n"
   ]
  },
  {
   "cell_type": "code",
   "execution_count": 10,
   "id": "fbbc5ce0-949d-472a-9e77-6db0fd87f7c4",
   "metadata": {
    "pycharm": {
     "name": "#%%\n"
    }
   },
   "outputs": [],
   "source": [
    "preview_generated_noise = tf.random.normal([EXAMPLES_TO_PREVIEW, NOISE_SIZE])\n",
    "\n",
    "def calculate_gradient_penalty(real_image, fake_image, batch_size):\n",
    "    alpha = tf.random.uniform(shape=[batch_size, 1, 1, 1], minval=0, maxval=1)\n",
    "    fake_image_mixed = alpha * real_image + (1 - alpha) * fake_image\n",
    "\n",
    "    with tf.GradientTape() as tape:\n",
    "        tape.watch(fake_image_mixed)\n",
    "        fake_mixed_predicted = discriminator(fake_image_mixed, training=True)\n",
    "\n",
    "    # computando o gradient penalty\n",
    "    gp_grads = tape.gradient(fake_mixed_predicted, fake_image_mixed)\n",
    "    gp_grad_norms = tf.sqrt(tf.reduce_sum(tf.square(gp_grads), axis=[1, 2, 3]))\n",
    "    gradient_penalty = tf.reduce_mean(tf.square(gp_grad_norms - 1))\n",
    "    return gradient_penalty\n",
    "\n",
    "@tf.function\n",
    "def gan_train_step(images):\n",
    "    batch_size = tf.shape(images)[0]\n",
    "    noise = tf.random.normal([batch_size, NOISE_SIZE], seed=SEED)\n",
    "    \n",
    "    with tf.GradientTape(persistent=True) as tape:\n",
    "        # gera as imagens\n",
    "        generated_images = generator(noise, training=True)\n",
    "        # tf.print(\"tf.shape(generated_images)\", tf.shape(generated_images))\n",
    "\n",
    "        # discriminador tenta classificar reais e geradas\n",
    "        real_images_output = discriminator(images, training=True)\n",
    "        fake_images_output = discriminator(generated_images, training=True)\n",
    "\n",
    "        # cálculo dos erros\n",
    "        generator_error = generator_loss(fake_images_output)\n",
    "        discriminator_error = discriminator_loss(real_images_output, fake_images_output, calculate_gradient_penalty(images, generated_images, batch_size))\n",
    "\n",
    "        \n",
    "    # atualização de pesos\n",
    "    generator_gradients = tape.gradient(generator_error, generator.trainable_variables)\n",
    "    discriminator_gradients = tape.gradient(discriminator_error, discriminator.trainable_variables)\n",
    "    \n",
    "    generator_optimizer.apply_gradients(zip(generator_gradients, generator.trainable_variables))\n",
    "    discriminator_optimizer.apply_gradients(zip(discriminator_gradients, discriminator.trainable_variables))\n",
    "    \n",
    "    return generator_error, discriminator_error\n",
    "    \n",
    "    "
   ]
  },
  {
   "cell_type": "code",
   "execution_count": 11,
   "id": "7dbc125f-fff9-477d-8209-30c3c5a694dc",
   "metadata": {
    "pycharm": {
     "name": "#%%\n"
    }
   },
   "outputs": [],
   "source": [
    "from functools import reduce\n",
    "import operator\n",
    "\n",
    "def gan_train(dataset, epochs):\n",
    "    generator_errors = []\n",
    "    discriminator_errors = []\n",
    "\n",
    "    for epoch in range(epochs):\n",
    "        print(\"Iniciando época \", epoch)\n",
    "        \n",
    "        batch_generator_errors = []\n",
    "        batch_discriminator_errors = []\n",
    "        for batch in dataset:\n",
    "            gen_error, dis_error = gan_train_step(batch)\n",
    "            batch_generator_errors.append(gen_error)\n",
    "            batch_discriminator_errors.append(dis_error)\n",
    "        generator_errors.append(reduce(operator.add, batch_generator_errors) / len(batch_generator_errors))\n",
    "        discriminator_errors.append(reduce(operator.add, batch_discriminator_errors) / len(batch_discriminator_errors))\n",
    "        \n",
    "        display.clear_output(wait=True)\n",
    "        \n",
    "        generate_and_save_images(generator, epoch+1, preview_generated_noise)\n",
    "    \n",
    "    return generator_errors, discriminator_errors"
   ]
  },
  {
   "cell_type": "code",
   "execution_count": 12,
   "id": "f74b70b3-9e24-404f-b953-b1747c1f55e4",
   "metadata": {
    "pycharm": {
     "name": "#%%\n"
    }
   },
   "outputs": [],
   "source": [
    "def generate_and_save_images(model, epoch, test_input):\n",
    "    amount = test_input.shape[0]\n",
    "    predictions = model(test_input, training=False)\n",
    "    \n",
    "    fig = plt.figure(figsize=(4, 4))\n",
    "    for i in range(predictions.shape[0]):\n",
    "        plt.subplot(int(amount**0.5), int(amount**0.5), i+1)\n",
    "        show_normalized_image(predictions[i])\n",
    "        plt.axis(\"off\")\n",
    "\n",
    "    plt.savefig(\"temp_new_sprite/image_at_epoch_{:04d}.png\".format(epoch))\n",
    "    plt.show()\n",
    "    "
   ]
  },
  {
   "cell_type": "markdown",
   "id": "60b2f038-91f0-40dc-b927-72b69a6dcd9f",
   "metadata": {
    "pycharm": {
     "name": "#%% md\n"
    }
   },
   "source": [
    "Dá início ao treinamento:"
   ]
  },
  {
   "cell_type": "code",
   "execution_count": null,
   "id": "2916a7eb-0180-438a-ab6d-ab8fe70c6c77",
   "metadata": {
    "pycharm": {
     "name": "#%%\n"
    }
   },
   "outputs": [
    {
     "data": {
      "text/plain": "<Figure size 288x288 with 16 Axes>",
      "image/png": "[encoded data removed]"
     },
     "metadata": {
      "needs_background": "light"
     },
     "output_type": "display_data"
    },
    {
     "name": "stdout",
     "output_type": "stream",
     "text": [
      "Iniciando época  43\n"
     ]
    }
   ],
   "source": [
    "from io_utils import ensure_folder_structure, delete_folder\n",
    "delete_folder(\"temp_new_sprite\")\n",
    "ensure_folder_structure(\"temp_new_sprite\")\n",
    "\n",
    "generator_errors, discriminator_errors = gan_train(X, EPOCHS)"
   ]
  },
  {
   "cell_type": "markdown",
   "id": "5ec65244-c989-41fe-8724-7009cbd702af",
   "metadata": {
    "pycharm": {
     "name": "#%% md\n"
    }
   },
   "source": [
    "Mostra o erro do discriminador e do gerador ao longo das épocas:"
   ]
  },
  {
   "cell_type": "code",
   "execution_count": 15,
   "id": "5f274037-93ca-4161-b236-16478b6d927c",
   "metadata": {
    "pycharm": {
     "name": "#%%\n"
    }
   },
   "outputs": [
    {
     "ename": "NameError",
     "evalue": "name 'generator_errors' is not defined",
     "output_type": "error",
     "traceback": [
      "\u001B[1;31m---------------------------------------------------------------------------\u001B[0m",
      "\u001B[1;31mNameError\u001B[0m                                 Traceback (most recent call last)",
      "Input \u001B[1;32mIn [15]\u001B[0m, in \u001B[0;36m<module>\u001B[1;34m\u001B[0m\n\u001B[1;32m----> 1\u001B[0m epochs_batches_range \u001B[38;5;241m=\u001B[39m \u001B[38;5;28mrange\u001B[39m(\u001B[38;5;28mlen\u001B[39m(\u001B[43mgenerator_errors\u001B[49m))\n\u001B[0;32m      3\u001B[0m plt\u001B[38;5;241m.\u001B[39mfigure(figsize\u001B[38;5;241m=\u001B[39m(\u001B[38;5;241m8\u001B[39m, \u001B[38;5;241m8\u001B[39m))\n\u001B[0;32m      4\u001B[0m plt\u001B[38;5;241m.\u001B[39mplot(epochs_batches_range, generator_errors, label\u001B[38;5;241m=\u001B[39m\u001B[38;5;124m\"\u001B[39m\u001B[38;5;124mGerador\u001B[39m\u001B[38;5;124m\"\u001B[39m)\n",
      "\u001B[1;31mNameError\u001B[0m: name 'generator_errors' is not defined"
     ]
    }
   ],
   "source": [
    "epochs_batches_range = range(len(generator_errors))\n",
    "\n",
    "plt.figure(figsize=(8, 8))\n",
    "plt.plot(epochs_batches_range, generator_errors, label=\"Gerador\")\n",
    "plt.plot(epochs_batches_range, discriminator_errors, label=\"Discriminador\")\n",
    "plt.legend(loc=\"upper left\")\n",
    "plt.title(\"Erros do gerador e discriminador\")\n",
    "plt.show()"
   ]
  },
  {
   "cell_type": "markdown",
   "id": "f2004b74-8550-4388-a84e-3b11e36ccb0e",
   "metadata": {
    "pycharm": {
     "name": "#%% md\n"
    }
   },
   "source": [
    "Exibe algumas imagens e gera uma animação ao longo das épocas:"
   ]
  },
  {
   "cell_type": "code",
   "execution_count": null,
   "id": "d7c9f9a5-da3d-42cd-a0df-45c2bf95d2ad",
   "metadata": {
    "pycharm": {
     "name": "#%%\n"
    }
   },
   "outputs": [],
   "source": [
    "def display_image(epoch_no):\n",
    "    return PIL.Image.open('temp_new_sprite/image_at_epoch_{:04d}.png'.format(epoch_no))\n",
    "\n",
    "display_image(EPOCHS)\n",
    "\n",
    "anim_file = 'dcgan.gif'\n",
    "\n",
    "import imageio\n",
    "with imageio.get_writer(anim_file, mode='I') as writer:\n",
    "    filenames = glob.glob('temp_new_sprite/image*.png')\n",
    "    filenames = sorted(filenames)\n",
    "    for filename in filenames:\n",
    "        image = imageio.imread(filename, pilmode=\"RGBA\")\n",
    "        alpha = image[:,:,3]\n",
    "        image[alpha < 100] = (255, 255, 255, 0)\n",
    "        alpha[alpha >= 100] = 255\n",
    "        writer.append_data(image)\n",
    "    image = imageio.imread(filename)\n",
    "    alpha = image[:,:,3]\n",
    "    image[alpha < 100] = (255, 255, 255, 0)\n",
    "    alpha[alpha >= 100] = 255\n",
    "    writer.append_data(image)\n",
    "\n",
    "from IPython.display import Image\n",
    "Image(open(anim_file, \"rb\").read())"
   ]
  },
  {
   "cell_type": "markdown",
   "id": "549e58eb-d3d3-4de3-a837-d7a908aa6529",
   "metadata": {
    "pycharm": {
     "name": "#%% md\n"
    }
   },
   "source": [
    "![center](docs/images/dcgan.gif)"
   ]
  }
 ],
 "metadata": {
  "kernelspec": {
   "display_name": "Python 3 (ipykernel)",
   "language": "python",
   "name": "python3"
  },
  "language_info": {
   "codemirror_mode": {
    "name": "ipython",
    "version": 3
   },
   "file_extension": ".py",
   "mimetype": "text/x-python",
   "name": "python",
   "nbconvert_exporter": "python",
   "pygments_lexer": "ipython3",
   "version": "3.9.9"
  }
 },
 "nbformat": 4,
 "nbformat_minor": 5
}