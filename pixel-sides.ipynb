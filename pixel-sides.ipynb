{
 "cells": [
  {
   "cell_type": "markdown",
   "id": "443821c7-c7fb-4fb8-8e8d-3d44ade75de9",
   "metadata": {
    "tags": []
   },
   "source": [
    "# Pixel Sides\n",
    "\n",
    "Este é um projeto para a disciplina de Aprendizado de Máquina do DCC/UFMG em 2021/1, ministrada por Adriano Veloso.\n",
    "Autor: Flávio Coutinho <fegemo@cefetmg.br>\n",
    "\n",
    "A ideia é, dada a imagem frontal de um personagem em pixel art (64x64), gerar as visões laterais e de costas dele.\n",
    "\n",
    "Foi usado o _dataset_ Tiny Pixel ....\n",
    "\n",
    "A implementação usa Pix2Pix... ou ...CycleGAN?\n",
    "\n",
    "Passos:\n",
    "1. Criar um classificador de pose\n",
    "1. Criar uma DCGAN?\n",
    "1. Treinar Pix2Pix?\n",
    "1. Treinar CycleGAN?"
   ]
  },
  {
   "cell_type": "code",
   "execution_count": 1,
   "id": "adbeb360-4b3e-4a49-bb7f-c07c0803d2f5",
   "metadata": {},
   "outputs": [],
   "source": [
    "import numpy as np\n",
    "import matplotlib.pyplot as plt\n",
    "\n",
    "import tensorflow as tf\n",
    "import tensorflow.keras as keras\n"
   ]
  },
  {
   "cell_type": "code",
   "execution_count": 2,
   "id": "3f9773a3-be56-458c-b3d7-e02836a2e327",
   "metadata": {},
   "outputs": [],
   "source": [
    "seed = 42\n",
    "\n",
    "data_folder = \"tiny-hero\"\n",
    "batch_size = 100 \n",
    "image_size = 64\n",
    "\n",
    "channels = 3\n",
    "\n",
    "#latent_size = 40\n",
    "#condition_size = 10\n",
    "#feature_map_size = 64\n",
    "#num_epochs = 200\n",
    "\n",
    "#lr_d = 0.0004\n",
    "#lr_g = 0.0001\n",
    "#beta1 = 0.5\n",
    "#ngpu = 1\n"
   ]
  },
  {
   "cell_type": "markdown",
   "id": "a0cd71b7-bf9e-4bad-8392-ac56769fc0ba",
   "metadata": {},
   "source": [
    "## 1. Criando o _dataset_ para classificador"
   ]
  },
  {
   "cell_type": "code",
   "execution_count": 3,
   "id": "af709ab4-efef-4448-a2ff-c85eb9cdc403",
   "metadata": {},
   "outputs": [
    {
     "name": "stdout",
     "output_type": "stream",
     "text": [
      "Found 3648 files belonging to 4 classes.\n",
      "Using 2919 files for training.\n",
      "Found 3648 files belonging to 4 classes.\n",
      "Using 729 files for validation.\n"
     ]
    }
   ],
   "source": [
    "X_train = tf.keras.preprocessing.image_dataset_from_directory(\n",
    "  data_folder,\n",
    "  validation_split=0.2,\n",
    "  subset=\"training\",\n",
    "  seed=seed,\n",
    "  image_size=(image_size, image_size),\n",
    "  batch_size=batch_size)\n",
    "\n",
    "X_validation = tf.keras.preprocessing.image_dataset_from_directory(\n",
    "  data_folder,\n",
    "  validation_split=0.2,\n",
    "  subset=\"validation\",\n",
    "  seed=seed,\n",
    "  image_size=(image_size, image_size),\n",
    "  batch_size=batch_size)\n"
   ]
  },
  {
   "cell_type": "code",
   "execution_count": null,
   "id": "ce7aa143-46cd-41f5-832f-a06251a1ca0b",
   "metadata": {},
   "outputs": [],
   "source": []
  }
 ],
 "metadata": {
  "kernelspec": {
   "display_name": "Python 3 (ipykernel)",
   "language": "python",
   "name": "python3"
  },
  "language_info": {
   "codemirror_mode": {
    "name": "ipython",
    "version": 3
   },
   "file_extension": ".py",
   "mimetype": "text/x-python",
   "name": "python",
   "nbconvert_exporter": "python",
   "pygments_lexer": "ipython3",
   "version": "3.9.6"
  }
 },
 "nbformat": 4,
 "nbformat_minor": 5
}
