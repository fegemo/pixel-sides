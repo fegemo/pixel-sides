{
 "cells": [
  {
   "cell_type": "code",
   "execution_count": 1,
   "id": "00ca6267-01b7-4ca2-ac33-769b7afac71f",
   "metadata": {
    "execution": {
     "iopub.execute_input": "2022-02-16T12:39:02.954235Z",
     "iopub.status.busy": "2022-02-16T12:39:02.953239Z",
     "iopub.status.idle": "2022-02-16T12:39:10.070432Z",
     "shell.execute_reply": "2022-02-16T12:39:10.069433Z",
     "shell.execute_reply.started": "2022-02-16T12:39:02.954235Z"
    }
   },
   "outputs": [
    {
     "name": "stdout",
     "output_type": "stream",
     "text": [
      "Versão do TensorFlow:  2.7.0\n"
     ]
    }
   ],
   "source": [
    "# importação de pacotes\n",
    "import numpy as np\n",
    "import matplotlib.pyplot as plt\n",
    "import seaborn as sns\n",
    "\n",
    "import tensorflow as tf\n",
    "from tensorflow import keras\n",
    "from tensorflow.keras import layers\n",
    "from tensorflow.keras.models import Sequential\n",
    "print(\"Versão do TensorFlow: \", tf.__version__)\n",
    "\n",
    "import PIL\n",
    "import imageio\n",
    "from IPython import display"
   ]
  },
  {
   "cell_type": "code",
   "execution_count": 2,
   "id": "a79378a6-ceaa-4565-a11c-25945ef79393",
   "metadata": {
    "execution": {
     "iopub.execute_input": "2022-02-16T12:39:10.071429Z",
     "iopub.status.busy": "2022-02-16T12:39:10.071429Z",
     "iopub.status.idle": "2022-02-16T12:39:10.086470Z",
     "shell.execute_reply": "2022-02-16T12:39:10.085480Z",
     "shell.execute_reply.started": "2022-02-16T12:39:10.071429Z"
    }
   },
   "outputs": [],
   "source": [
    "SEED = 42\n",
    "np.random.seed(SEED)\n",
    "tf.random.set_seed(SEED)\n",
    "\n",
    "DATA_FOLDERS = [\"tiny-hero\", \"rpg-maker\"]\n",
    "DATASET_SIZE = int(sum([3648, 4064]))\n",
    "BATCH_SIZE = 64 \n",
    "IMAGE_SIZE = 64\n",
    "CHANNELS = 4\n",
    "EPOCHS = 50"
   ]
  },
  {
   "cell_type": "code",
   "execution_count": 3,
   "id": "1cea5c71-c484-48d9-8391-92595980eb69",
   "metadata": {
    "execution": {
     "iopub.execute_input": "2022-02-16T12:39:10.089463Z",
     "iopub.status.busy": "2022-02-16T12:39:10.089463Z",
     "iopub.status.idle": "2022-02-16T12:39:10.918696Z",
     "shell.execute_reply": "2022-02-16T12:39:10.916737Z",
     "shell.execute_reply.started": "2022-02-16T12:39:10.089463Z"
    }
   },
   "outputs": [
    {
     "ename": "FileNotFoundError",
     "evalue": "[WinError 3] O sistema não pode encontrar o caminho especificado: 'tiny-hero'",
     "output_type": "error",
     "traceback": [
      "\u001b[1;31m---------------------------------------------------------------------------\u001b[0m",
      "\u001b[1;31mFileNotFoundError\u001b[0m                         Traceback (most recent call last)",
      "\u001b[1;32m~\\AppData\\Local\\Temp/ipykernel_7416/4211203353.py\u001b[0m in \u001b[0;36m<module>\u001b[1;34m\u001b[0m\n\u001b[0;32m      2\u001b[0m \u001b[0mX_train\u001b[0m \u001b[1;33m=\u001b[0m \u001b[1;33m[\u001b[0m\u001b[1;36m0\u001b[0m\u001b[1;33m,\u001b[0m \u001b[1;36m1\u001b[0m\u001b[1;33m]\u001b[0m\u001b[1;33m\u001b[0m\u001b[1;33m\u001b[0m\u001b[0m\n\u001b[0;32m      3\u001b[0m \u001b[1;32mfor\u001b[0m \u001b[0mi\u001b[0m \u001b[1;32min\u001b[0m \u001b[0mrange\u001b[0m\u001b[1;33m(\u001b[0m\u001b[1;36m2\u001b[0m\u001b[1;33m)\u001b[0m\u001b[1;33m:\u001b[0m\u001b[1;33m\u001b[0m\u001b[1;33m\u001b[0m\u001b[0m\n\u001b[1;32m----> 4\u001b[1;33m     X_train[i] = keras.preprocessing.image_dataset_from_directory(\n\u001b[0m\u001b[0;32m      5\u001b[0m         \u001b[0mDATA_FOLDERS\u001b[0m\u001b[1;33m[\u001b[0m\u001b[0mi\u001b[0m\u001b[1;33m]\u001b[0m\u001b[1;33m,\u001b[0m\u001b[1;33m\u001b[0m\u001b[1;33m\u001b[0m\u001b[0m\n\u001b[0;32m      6\u001b[0m         \u001b[0mclass_names\u001b[0m \u001b[1;33m=\u001b[0m \u001b[1;33m[\u001b[0m\u001b[1;34m\"0-back\"\u001b[0m\u001b[1;33m,\u001b[0m \u001b[1;34m\"1-left\"\u001b[0m\u001b[1;33m,\u001b[0m \u001b[1;34m\"2-front\"\u001b[0m\u001b[1;33m,\u001b[0m \u001b[1;34m\"3-right\"\u001b[0m\u001b[1;33m]\u001b[0m\u001b[1;33m,\u001b[0m\u001b[1;33m\u001b[0m\u001b[1;33m\u001b[0m\u001b[0m\n",
      "\u001b[1;32mD:\\Projetos 2\\pixel-sides\\venv\\lib\\site-packages\\keras\\preprocessing\\image_dataset.py\u001b[0m in \u001b[0;36mimage_dataset_from_directory\u001b[1;34m(directory, labels, label_mode, class_names, color_mode, batch_size, image_size, shuffle, seed, validation_split, subset, interpolation, follow_links, crop_to_aspect_ratio, **kwargs)\u001b[0m\n\u001b[0;32m    188\u001b[0m   \u001b[1;32mif\u001b[0m \u001b[0mseed\u001b[0m \u001b[1;32mis\u001b[0m \u001b[1;32mNone\u001b[0m\u001b[1;33m:\u001b[0m\u001b[1;33m\u001b[0m\u001b[1;33m\u001b[0m\u001b[0m\n\u001b[0;32m    189\u001b[0m     \u001b[0mseed\u001b[0m \u001b[1;33m=\u001b[0m \u001b[0mnp\u001b[0m\u001b[1;33m.\u001b[0m\u001b[0mrandom\u001b[0m\u001b[1;33m.\u001b[0m\u001b[0mrandint\u001b[0m\u001b[1;33m(\u001b[0m\u001b[1;36m1e6\u001b[0m\u001b[1;33m)\u001b[0m\u001b[1;33m\u001b[0m\u001b[1;33m\u001b[0m\u001b[0m\n\u001b[1;32m--> 190\u001b[1;33m   image_paths, labels, class_names = dataset_utils.index_directory(\n\u001b[0m\u001b[0;32m    191\u001b[0m       \u001b[0mdirectory\u001b[0m\u001b[1;33m,\u001b[0m\u001b[1;33m\u001b[0m\u001b[1;33m\u001b[0m\u001b[0m\n\u001b[0;32m    192\u001b[0m       \u001b[0mlabels\u001b[0m\u001b[1;33m,\u001b[0m\u001b[1;33m\u001b[0m\u001b[1;33m\u001b[0m\u001b[0m\n",
      "\u001b[1;32mD:\\Projetos 2\\pixel-sides\\venv\\lib\\site-packages\\keras\\preprocessing\\dataset_utils.py\u001b[0m in \u001b[0;36mindex_directory\u001b[1;34m(directory, labels, formats, class_names, shuffle, seed, follow_links)\u001b[0m\n\u001b[0;32m     64\u001b[0m   \u001b[1;32melse\u001b[0m\u001b[1;33m:\u001b[0m\u001b[1;33m\u001b[0m\u001b[1;33m\u001b[0m\u001b[0m\n\u001b[0;32m     65\u001b[0m     \u001b[0msubdirs\u001b[0m \u001b[1;33m=\u001b[0m \u001b[1;33m[\u001b[0m\u001b[1;33m]\u001b[0m\u001b[1;33m\u001b[0m\u001b[1;33m\u001b[0m\u001b[0m\n\u001b[1;32m---> 66\u001b[1;33m     \u001b[1;32mfor\u001b[0m \u001b[0msubdir\u001b[0m \u001b[1;32min\u001b[0m \u001b[0msorted\u001b[0m\u001b[1;33m(\u001b[0m\u001b[0mos\u001b[0m\u001b[1;33m.\u001b[0m\u001b[0mlistdir\u001b[0m\u001b[1;33m(\u001b[0m\u001b[0mdirectory\u001b[0m\u001b[1;33m)\u001b[0m\u001b[1;33m)\u001b[0m\u001b[1;33m:\u001b[0m\u001b[1;33m\u001b[0m\u001b[1;33m\u001b[0m\u001b[0m\n\u001b[0m\u001b[0;32m     67\u001b[0m       \u001b[1;32mif\u001b[0m \u001b[0mos\u001b[0m\u001b[1;33m.\u001b[0m\u001b[0mpath\u001b[0m\u001b[1;33m.\u001b[0m\u001b[0misdir\u001b[0m\u001b[1;33m(\u001b[0m\u001b[0mos\u001b[0m\u001b[1;33m.\u001b[0m\u001b[0mpath\u001b[0m\u001b[1;33m.\u001b[0m\u001b[0mjoin\u001b[0m\u001b[1;33m(\u001b[0m\u001b[0mdirectory\u001b[0m\u001b[1;33m,\u001b[0m \u001b[0msubdir\u001b[0m\u001b[1;33m)\u001b[0m\u001b[1;33m)\u001b[0m\u001b[1;33m:\u001b[0m\u001b[1;33m\u001b[0m\u001b[1;33m\u001b[0m\u001b[0m\n\u001b[0;32m     68\u001b[0m         \u001b[0msubdirs\u001b[0m\u001b[1;33m.\u001b[0m\u001b[0mappend\u001b[0m\u001b[1;33m(\u001b[0m\u001b[0msubdir\u001b[0m\u001b[1;33m)\u001b[0m\u001b[1;33m\u001b[0m\u001b[1;33m\u001b[0m\u001b[0m\n",
      "\u001b[1;31mFileNotFoundError\u001b[0m: [WinError 3] O sistema não pode encontrar o caminho especificado: 'tiny-hero'"
     ]
    }
   ],
   "source": [
    "class_names = []\n",
    "X_train = [0, 1]\n",
    "for i in range(2):\n",
    "    X_train[i] = keras.preprocessing.image_dataset_from_directory(\n",
    "        DATA_FOLDERS[i],\n",
    "        class_names = [\"0-back\", \"1-left\", \"2-front\", \"3-right\"],\n",
    "        label_mode= \"int\",\n",
    "        validation_split=0.2,\n",
    "        subset=\"training\",\n",
    "        color_mode=\"rgba\",\n",
    "        interpolation=\"nearest\",\n",
    "        seed=SEED,\n",
    "        batch_size=BATCH_SIZE,\n",
    "        image_size=(IMAGE_SIZE, IMAGE_SIZE))\n",
    "    class_names = X_train[i].class_names\n",
    "X_train = X_train[0].concatenate(X_train[1])\n",
    "X_train_size = tf.math.ceil(DATASET_SIZE * 0.8).numpy().astype(int) + 1\n",
    "print(\"X_train_size\", X_train_size)\n",
    "\n",
    "X_validation = [0, 1]\n",
    "for i in range(2):\n",
    "    X_validation[i] = keras.preprocessing.image_dataset_from_directory(\n",
    "        DATA_FOLDERS[i],\n",
    "        class_names = [\"0-back\", \"1-left\", \"2-front\", \"3-right\"],\n",
    "        label_mode= \"int\",\n",
    "        validation_split=0.2,\n",
    "        subset=\"validation\",\n",
    "        color_mode=\"rgba\",\n",
    "        interpolation=\"nearest\",\n",
    "        seed=SEED,\n",
    "        batch_size=BATCH_SIZE,\n",
    "        image_size=(IMAGE_SIZE, IMAGE_SIZE))\n",
    "X_validation = X_validation[0].concatenate(X_validation[1])\n",
    "X_validation_size = DATASET_SIZE - X_train_size\n",
    "print(\"X_validation_size\", X_validation_size)\n",
    "\n",
    "normalization_layer = keras.layers.experimental.preprocessing.Rescaling(1./127.5, -1)\n",
    "X_train = X_train.map(lambda x, y: (normalization_layer(x), y)).shuffle(DATASET_SIZE)\n",
    "X_validation = X_validation.map(lambda x, y: (normalization_layer(x), y))"
   ]
  },
  {
   "cell_type": "code",
   "execution_count": null,
   "id": "6db61c5b-daed-4255-8805-6b0ad334792a",
   "metadata": {
    "execution": {
     "iopub.status.busy": "2022-02-16T12:39:10.919693Z",
     "iopub.status.idle": "2022-02-16T12:39:10.920725Z",
     "shell.execute_reply": "2022-02-16T12:39:10.920725Z",
     "shell.execute_reply.started": "2022-02-16T12:39:10.920725Z"
    }
   },
   "outputs": [],
   "source": [
    "def denormalize_image(image):\n",
    "    return (image + 1) / 2\n",
    "\n",
    "def show_image(image):\n",
    "    plt.imshow(image, interpolation=\"nearest\")\n",
    "    \n",
    "def show_normalized_image(image):\n",
    "    show_image(denormalize_image(image))\n",
    "\n",
    "plt.figure(figsize=(8, 9))\n",
    "plt.suptitle(\"Exemplos do treinamento\")\n",
    "plt.subplots_adjust(bottom=0)\n",
    "for i in range(4):\n",
    "    X_train_by_class = X_train.filter(lambda x, l: tf.math.equal(l[0], i))\n",
    "    for j in range(4):\n",
    "        for images, labels in X_train_by_class.take(1):\n",
    "            ax = plt.subplot(4, 4, (i*4+j)+1)\n",
    "            show_normalized_image(images[0])\n",
    "            plt.title(class_names[labels[0]])\n",
    "            plt.axis(\"off\")"
   ]
  },
  {
   "cell_type": "code",
   "execution_count": null,
   "id": "38e9efea-abd0-44cf-9c53-89e3ee2cef8e",
   "metadata": {
    "execution": {
     "iopub.status.busy": "2022-02-16T12:39:10.922687Z",
     "iopub.status.idle": "2022-02-16T12:39:10.923684Z",
     "shell.execute_reply": "2022-02-16T12:39:10.922687Z",
     "shell.execute_reply.started": "2022-02-16T12:39:10.922687Z"
    }
   },
   "outputs": [],
   "source": [
    "X_train = X_train.cache().shuffle(DATASET_SIZE).prefetch(buffer_size=tf.data.AUTOTUNE)\n",
    "X_validation = X_validation.cache().prefetch(buffer_size=tf.data.AUTOTUNE)"
   ]
  },
  {
   "cell_type": "code",
   "execution_count": null,
   "id": "b4bf9ced-ae02-4b77-bffd-24d1cc5c5177",
   "metadata": {
    "execution": {
     "iopub.status.busy": "2022-02-16T12:39:10.925681Z",
     "iopub.status.idle": "2022-02-16T12:39:10.926709Z",
     "shell.execute_reply": "2022-02-16T12:39:10.926709Z",
     "shell.execute_reply.started": "2022-02-16T12:39:10.926709Z"
    }
   },
   "outputs": [],
   "source": [
    "pose_classifier = keras.Sequential([\n",
    "    layers.Conv2D(2, 3, padding=\"same\", activation=\"relu\", input_shape=(IMAGE_SIZE, IMAGE_SIZE, CHANNELS)),\n",
    "    layers.Conv2D(8, 3, strides=2, padding=\"same\", activation=\"relu\"),\n",
    "    layers.BatchNormalization(),\n",
    "    layers.Dropout(0.8),\n",
    "    \n",
    "    layers.Flatten(),\n",
    "    layers.Dense(128),\n",
    "    layers.Dense(len(class_names), activation=\"softmax\")\n",
    "#     layers.Conv2D(32, 3, padding=\"same\", activation=\"relu\", input_shape=(IMAGE_SIZE, IMAGE_SIZE, CHANNELS)),\n",
    "#     layers.MaxPool2D(),\n",
    "#     layers.Dropout(0.8),\n",
    "\n",
    "#     layers.Flatten(),\n",
    "#     layers.Dense(24),\n",
    "#     layers.Dense(len(class_names), activation=\"softmax\")\n",
    "])\n",
    "\n",
    "pose_classifier.compile(\n",
    "    optimizer=\"adam\",\n",
    "    loss=\"sparse_categorical_crossentropy\",\n",
    "    metrics=[\"accuracy\"]\n",
    ")\n",
    "\n",
    "pose_classifier.summary()"
   ]
  },
  {
   "cell_type": "code",
   "execution_count": null,
   "id": "3ba769d4-c364-4db0-b229-4ed4fefa40b1",
   "metadata": {
    "execution": {
     "iopub.status.busy": "2022-02-16T12:39:10.928670Z",
     "iopub.status.idle": "2022-02-16T12:39:10.929667Z",
     "shell.execute_reply": "2022-02-16T12:39:10.928670Z",
     "shell.execute_reply.started": "2022-02-16T12:39:10.928670Z"
    }
   },
   "outputs": [],
   "source": [
    "history = pose_classifier.fit(\n",
    "  X_train,\n",
    "  validation_data=X_validation,\n",
    "  epochs=EPOCHS,\n",
    ")"
   ]
  },
  {
   "cell_type": "code",
   "execution_count": null,
   "id": "4717985c-dfcf-48a7-a952-06a8f45266ae",
   "metadata": {},
   "outputs": [],
   "source": []
  },
  {
   "cell_type": "code",
   "execution_count": null,
   "id": "c3b49874-f026-49c9-b3f8-348c6e1cc4fc",
   "metadata": {
    "execution": {
     "iopub.status.busy": "2022-02-16T12:39:10.931661Z",
     "iopub.status.idle": "2022-02-16T12:39:10.931661Z",
     "shell.execute_reply": "2022-02-16T12:39:10.931661Z",
     "shell.execute_reply.started": "2022-02-16T12:39:10.931661Z"
    }
   },
   "outputs": [],
   "source": [
    "acc = history.history[\"accuracy\"]\n",
    "val_acc = history.history[\"val_accuracy\"]\n",
    "\n",
    "loss = history.history[\"loss\"]\n",
    "val_loss = history.history[\"val_loss\"]\n",
    "\n",
    "epochs_range = range(len(loss))\n",
    "\n",
    "plt.figure(figsize=(16, 6))\n",
    "plt.subplot(1, 2, 1)\n",
    "plt.plot(epochs_range, acc, label=\"Acurácia (treinamento)\")\n",
    "plt.plot(epochs_range, val_acc, label=\"Acurácia (validação)\")\n",
    "plt.legend(loc=\"lower right\")\n",
    "plt.grid()\n",
    "plt.title(\"Acurácia de treino e validação\")\n",
    "\n",
    "plt.subplot(1, 2, 2)\n",
    "plt.plot(epochs_range, loss, label=\"Erro no treino\")\n",
    "plt.plot(epochs_range, val_loss, label=\"Erro na validação\")\n",
    "plt.legend(loc=\"upper right\")\n",
    "plt.title(\"Erro de treino e validação\")\n",
    "plt.grid()\n",
    "plt.show()"
   ]
  },
  {
   "cell_type": "code",
   "execution_count": null,
   "id": "8b4d97c1-4591-493b-a961-1a9ffa4fdbe8",
   "metadata": {
    "execution": {
     "iopub.status.busy": "2022-02-16T12:39:10.932658Z",
     "iopub.status.idle": "2022-02-16T12:39:10.933658Z",
     "shell.execute_reply": "2022-02-16T12:39:10.933658Z",
     "shell.execute_reply.started": "2022-02-16T12:39:10.933658Z"
    }
   },
   "outputs": [],
   "source": [
    "len(loss)"
   ]
  },
  {
   "cell_type": "code",
   "execution_count": null,
   "id": "02b273f2-5498-4c29-93d9-b41c9ac37d71",
   "metadata": {
    "execution": {
     "iopub.status.busy": "2022-02-16T12:39:10.935655Z",
     "iopub.status.idle": "2022-02-16T12:39:10.936647Z",
     "shell.execute_reply": "2022-02-16T12:39:10.935655Z",
     "shell.execute_reply.started": "2022-02-16T12:39:10.935655Z"
    }
   },
   "outputs": [],
   "source": [
    "Y_predicted = np.argmax(pose_classifier.predict(X_validation), axis=1).astype(int).reshape(-1, 1)\n",
    "X_validation_unbatched = np.array(list(X_validation.unbatch().as_numpy_iterator()), dtype=object)\n",
    "X_validation_unbatched = np.concatenate((X_validation_unbatched, Y_predicted), axis=1)\n",
    "\n",
    "X_validation_by_class = {name:[] for name in class_names}\n",
    "print(X_validation_by_class)\n",
    "\n",
    "total = 0\n",
    "equal = 0\n",
    "for (image, y, y_hat) in X_validation_unbatched:\n",
    "    total += 1\n",
    "    equal += 1 if y == y_hat else 0\n",
    "    X_validation_by_class[class_names[y]].append((image, y, y_hat))\n",
    "    \n",
    "print('total', total)\n",
    "print('equal', equal)\n",
    "    \n",
    "plt.figure(figsize=(10, 11))\n",
    "plt.suptitle(\"Algumas previsões\")\n",
    "plt.subplots_adjust(bottom=0)\n",
    "for i, class_name in enumerate(class_names):\n",
    "    indices = np.arange(len(X_validation_by_class[class_names[i]]), dtype=\"int\")\n",
    "    indices = np.random.choice(indices, size=4, replace=False)\n",
    "    examples_from_current_class = np.array(X_validation_by_class[class_names[i]], dtype=object)[indices]\n",
    "    for j in range(4):\n",
    "        ax = plt.subplot(4, 4, (i*4+j)+1)\n",
    "        show_normalized_image(examples_from_current_class[j][0])\n",
    "        plt.title(class_names[examples_from_current_class[j][2]])\n",
    "        plt.axis(\"off\")"
   ]
  },
  {
   "cell_type": "markdown",
   "id": "80990d0f-2bed-4a32-99a2-5c5dcef6ddf5",
   "metadata": {},
   "source": [
    "## Estudando previsões incorretas"
   ]
  },
  {
   "cell_type": "code",
   "execution_count": null,
   "id": "188b6b6e-b607-412e-b051-11f15f087401",
   "metadata": {
    "execution": {
     "iopub.status.busy": "2022-02-16T12:39:10.937644Z",
     "iopub.status.idle": "2022-02-16T12:39:10.938643Z",
     "shell.execute_reply": "2022-02-16T12:39:10.938643Z",
     "shell.execute_reply.started": "2022-02-16T12:39:10.938643Z"
    },
    "tags": []
   },
   "outputs": [],
   "source": [
    "plt.figure(figsize=(10, 10))\n",
    "plt.suptitle(\"Algumas previsões erradas\")\n",
    "plt.subplots_adjust(bottom=0)\n",
    "\n",
    "error_examples = {class_name:[(image, y, y_hat) for (image, y, y_hat) in examples if y != y_hat] for (class_name, examples) in X_validation_by_class.items()}\n",
    "\n",
    "for i, class_name in enumerate(class_names):\n",
    "    error_examples_from_current_class = error_examples[class_name]\n",
    "    number_of_cells = min(4, len(error_examples_from_current_class))\n",
    "    for j in range(number_of_cells):\n",
    "        ax = plt.subplot(4, 4, (i*4+j)+1)\n",
    "        show_normalized_image(error_examples_from_current_class[j][0])\n",
    "        plt.title(f\"Real: {class_names[error_examples_from_current_class[j][1]]}\\nPred: {class_names[error_examples_from_current_class[j][2]]}\")\n",
    "        plt.axis(\"off\")\n"
   ]
  }
 ],
 "metadata": {
  "kernelspec": {
   "display_name": "Python 3 (ipykernel)",
   "language": "python",
   "name": "python3"
  },
  "language_info": {
   "codemirror_mode": {
    "name": "ipython",
    "version": 3
   },
   "file_extension": ".py",
   "mimetype": "text/x-python",
   "name": "python",
   "nbconvert_exporter": "python",
   "pygments_lexer": "ipython3",
   "version": "3.9.9"
  }
 },
 "nbformat": 4,
 "nbformat_minor": 5
}
