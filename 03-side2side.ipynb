{
 "cells": [
  {
   "cell_type": "code",
   "execution_count": 1,
   "id": "20eb82d0-a8f7-4e38-897d-879d558f39d1",
   "metadata": {
    "execution": {
     "iopub.execute_input": "2022-02-24T14:45:31.577953Z",
     "iopub.status.busy": "2022-02-24T14:45:31.575958Z",
     "iopub.status.idle": "2022-02-24T14:45:35.531498Z",
     "shell.execute_reply": "2022-02-24T14:45:35.529545Z",
     "shell.execute_reply.started": "2022-02-24T14:45:31.577953Z"
    },
    "tags": []
   },
   "outputs": [
    {
     "name": "stdout",
     "output_type": "stream",
     "text": [
      "Tensorflow version:  2.8.0\n"
     ]
    }
   ],
   "source": [
    "import tensorflow as tf\n",
    "\n",
    "import os\n",
    "import pathlib\n",
    "import time\n",
    "import datetime\n",
    "import numpy as np\n",
    "import io_utils\n",
    "\n",
    "from matplotlib import pyplot as plt\n",
    "from IPython import display\n",
    "\n",
    "print(\"Tensorflow version: \", tf.__version__)"
   ]
  },
  {
   "cell_type": "code",
   "execution_count": 2,
   "id": "1e77d180-708d-4164-997b-85ce65625e63",
   "metadata": {
    "execution": {
     "iopub.execute_input": "2022-02-24T14:45:35.535490Z",
     "iopub.status.busy": "2022-02-24T14:45:35.534528Z",
     "iopub.status.idle": "2022-02-24T14:45:36.495093Z",
     "shell.execute_reply": "2022-02-24T14:45:36.493100Z",
     "shell.execute_reply.started": "2022-02-24T14:45:35.535490Z"
    },
    "tags": []
   },
   "outputs": [
    {
     "name": "stdout",
     "output_type": "stream",
     "text": [
      "Default GPU: /device:GPU:0\n"
     ]
    }
   ],
   "source": [
    "if tf.test.gpu_device_name(): \n",
    "    print(\"Default GPU: {}\".format(tf.test.gpu_device_name()))\n",
    "else:\n",
    "    print(\"Not using a GPU - it will take long!!\")"
   ]
  },
  {
   "cell_type": "code",
   "execution_count": 3,
   "id": "df2c32b8-22f2-442e-a86d-0f562b1b11ae",
   "metadata": {
    "execution": {
     "iopub.execute_input": "2022-02-24T14:45:36.497087Z",
     "iopub.status.busy": "2022-02-24T14:45:36.496092Z",
     "iopub.status.idle": "2022-02-24T14:45:36.510056Z",
     "shell.execute_reply": "2022-02-24T14:45:36.509068Z",
     "shell.execute_reply.started": "2022-02-24T14:45:36.497087Z"
    },
    "tags": []
   },
   "outputs": [
    {
     "name": "stdout",
     "output_type": "stream",
     "text": [
      "DATASET_SIZE 408\n",
      "TRAIN_SIZE 347\n",
      "TEST_SIZE 61\n"
     ]
    }
   ],
   "source": [
    "from configuration import *\n",
    "print(\"DATASET_SIZE\", DATASET_SIZE)\n",
    "print(\"TRAIN_SIZE\", TRAIN_SIZE)\n",
    "print(\"TEST_SIZE\", TEST_SIZE)\n",
    "\n",
    "np.random.seed(SEED)\n",
    "tf.random.set_seed(SEED)"
   ]
  },
  {
   "cell_type": "code",
   "execution_count": 4,
   "id": "14b6f881-4a25-48d4-9108-1ccf4a23e6ff",
   "metadata": {
    "execution": {
     "iopub.execute_input": "2022-02-24T14:45:36.514045Z",
     "iopub.status.busy": "2022-02-24T14:45:36.513051Z",
     "iopub.status.idle": "2022-02-24T14:45:36.541968Z",
     "shell.execute_reply": "2022-02-24T14:45:36.541010Z",
     "shell.execute_reply.started": "2022-02-24T14:45:36.514045Z"
    },
    "tags": []
   },
   "outputs": [],
   "source": [
    "# Some images have transparent pixels with colors other than black\n",
    "# This function turns all transparent pixels to black\n",
    "# TFJS does this by default, but TF does not\n",
    "# The TFJS imported model was having bad inference because of this\n",
    "def blacken_transparent_pixels(image):\n",
    "    mask = tf.math.equal(image[:, :, 3], 0)\n",
    "    repeated_mask = tf.repeat(mask, INPUT_CHANNELS)\n",
    "    condition = tf.reshape(repeated_mask, image.shape)\n",
    "    \n",
    "    image = tf.where(\n",
    "        condition,\n",
    "        image * 0.,\n",
    "        image * 1.)\n",
    "    return image\n",
    "\n",
    "\n",
    "# replaces the alpha channel with a white color (only 100% transparent pixels)\n",
    "def replace_alpha_with_white(image):\n",
    "    mask = tf.math.equal(image[:, :, 3], 0)\n",
    "    repeated_mask = tf.repeat(mask, INPUT_CHANNELS)\n",
    "    condition = tf.reshape(repeated_mask, image.shape)\n",
    "    \n",
    "    image = tf.where(\n",
    "        condition,\n",
    "        255.,\n",
    "        image)\n",
    "\n",
    "    # drops the A in RGBA\n",
    "    image = image[:, :, :3]\n",
    "    return image\n",
    "\n",
    "\n",
    "# rescales images in the interval [-1, 1]\n",
    "def normalize(image):\n",
    "    return (image / 127.5) - 1\n",
    "\n",
    "\n",
    "# loads an image from the file system and transforms it for the network:\n",
    "# (a) casts to float, (b) ensures transparent pixels are black-transparent, and (c)\n",
    "# puts the values in the range of [-1, 1]\n",
    "def load_image(path):\n",
    "    image = tf.io.read_file(path)\n",
    "    image = tf.image.decode_png(image, channels=INPUT_CHANNELS)\n",
    "    image = tf.reshape(image, (IMG_SIZE, IMG_SIZE, INPUT_CHANNELS))\n",
    "    image = tf.cast(image, tf.float32)\n",
    "    image = blacken_transparent_pixels(image)\n",
    "    if OUTPUT_CHANNELS == 3:\n",
    "        image = replace_alpha_with_white(image)\n",
    "    image = normalize(image)\n",
    "    return image\n"
   ]
  },
  {
   "cell_type": "code",
   "execution_count": 5,
   "id": "6d362a20-9eec-47e4-bc48-65a6d44ee34e",
   "metadata": {
    "execution": {
     "iopub.execute_input": "2022-02-24T14:45:36.544961Z",
     "iopub.status.busy": "2022-02-24T14:45:36.544961Z",
     "iopub.status.idle": "2022-02-24T14:45:36.556928Z",
     "shell.execute_reply": "2022-02-24T14:45:36.555942Z",
     "shell.execute_reply.started": "2022-02-24T14:45:36.544961Z"
    },
    "tags": []
   },
   "outputs": [],
   "source": [
    "def create_image_loader(sprite_side_source, sprite_side_target, dataset_sizes, train_or_test_folder):\n",
    "    \"\"\"\n",
    "    Returns a function which takes an integer in the range of [0, DATASET_SIZE-1] and loads some image file\n",
    "    from the corresponding dataset (using image_number and DATASET_SIZES to decide).\n",
    "    \"\"\"\n",
    "    def load_images(image_number):\n",
    "        image_number = tf.cast(image_number, \"int32\")\n",
    "\n",
    "        # finds the dataset index and image number considering the param is an int in an imaginary concatenated array of all datasets\n",
    "        dataset_index = tf.constant(0, dtype=\"int32\")\n",
    "        condition = lambda image_number, dataset_index: image_number >= tf.gather(dataset_sizes, dataset_index)\n",
    "        body = lambda image_number, dataset_index: [image_number - tf.gather(dataset_sizes, dataset_index), dataset_index + 1]\n",
    "        image_number, dataset_index = tf.while_loop(condition, body, [image_number, dataset_index])\n",
    "        \n",
    "        # gets the string pointing to the correct images\n",
    "        dataset = tf.gather(DATA_FOLDERS, dataset_index)\n",
    "        image_number = tf.strings.as_string(image_number)\n",
    "        input_image = load_image(tf.strings.join([dataset, os.sep, train_or_test_folder, os.sep, DIRECTION_FOLDERS[sprite_side_source], os.sep, image_number, \".png\"]))\n",
    "        real_image = load_image(tf.strings.join([dataset, os.sep, train_or_test_folder, os.sep, DIRECTION_FOLDERS[sprite_side_target], os.sep, image_number, \".png\"]))        \n",
    "        \n",
    "        return input_image, real_image\n",
    "    return load_images\n"
   ]
  },
  {
   "cell_type": "code",
   "execution_count": 6,
   "id": "1453ebda-b12f-40ee-95f8-c4dd5bb682e1",
   "metadata": {
    "execution": {
     "iopub.execute_input": "2022-02-24T14:45:36.558939Z",
     "iopub.status.busy": "2022-02-24T14:45:36.557925Z",
     "iopub.status.idle": "2022-02-24T14:45:37.844719Z",
     "shell.execute_reply": "2022-02-24T14:45:37.843768Z",
     "shell.execute_reply.started": "2022-02-24T14:45:36.558939Z"
    },
    "tags": []
   },
   "outputs": [],
   "source": [
    "train_dataset = tf.data.Dataset.range(TRAIN_SIZE).shuffle(TRAIN_SIZE)\n",
    "test_dataset = tf.data.Dataset.range(TEST_SIZE).shuffle(TEST_SIZE)\n",
    "\n",
    "f2r_train_dataset = train_dataset.map(create_image_loader(2, 3, TRAIN_SIZES, \"train\"), num_parallel_calls=tf.data.AUTOTUNE)\n",
    "f2r_train_dataset = f2r_train_dataset.batch(BATCH_SIZE)\n",
    "f2r_test_dataset = test_dataset.map(create_image_loader(2, 3, TEST_SIZES, \"test\"))\n",
    "f2r_test_dataset = f2r_test_dataset.batch(BATCH_SIZE)\n",
    "\n",
    "f2b_train_dataset = train_dataset.map(create_image_loader(2, 0, TRAIN_SIZES, \"train\"), num_parallel_calls=tf.data.AUTOTUNE)\n",
    "f2b_train_dataset = f2b_train_dataset.batch(BATCH_SIZE)\n",
    "f2b_test_dataset = test_dataset.map(create_image_loader(2, 0, TEST_SIZES, \"test\"))\n",
    "f2b_test_dataset = f2b_test_dataset.batch(BATCH_SIZE)\n",
    "\n",
    "f2l_train_dataset = train_dataset.map(create_image_loader(2, 1, TRAIN_SIZES, \"train\"), num_parallel_calls=tf.data.AUTOTUNE)\n",
    "f2l_train_dataset = f2l_train_dataset.batch(BATCH_SIZE)\n",
    "f2l_test_dataset = test_dataset.map(create_image_loader(2, 1, TEST_SIZES, \"test\"))\n",
    "f2l_test_dataset = f2l_test_dataset.batch(BATCH_SIZE)"
   ]
  },
  {
   "cell_type": "code",
   "execution_count": 7,
   "id": "62e39622-bfd0-45cb-9e1f-f1f3d69721f7",
   "metadata": {
    "execution": {
     "iopub.execute_input": "2022-02-24T14:45:37.845716Z",
     "iopub.status.busy": "2022-02-24T14:45:37.844719Z",
     "iopub.status.idle": "2022-02-24T14:50:07.937492Z",
     "shell.execute_reply": "2022-02-24T14:50:07.936970Z",
     "shell.execute_reply.started": "2022-02-24T14:45:37.845716Z"
    },
    "tags": []
   },
   "outputs": [
    {
     "name": "stdout",
     "output_type": "stream",
     "text": [
      "Last 1000 steps took: 123.98s\n",
      "Estimated time to finish: 0.00min\n",
      "\n"
     ]
    },
    {
     "data": {
      "image/png": "[encoded data removed]",
      "text/plain": [
       "<Figure size 864x1440 with 15 Axes>"
      ]
     },
     "metadata": {},
     "output_type": "display_data"
    },
    {
     "name": "stdout",
     "output_type": "stream",
     "text": [
      "Step: 2.0k\n"
     ]
    }
   ],
   "source": [
    "Pix2PixModel = None\n",
    "from pix2pix_model import Pix2PixModel, Pix2PixWassersteinModel, Pix2PixFFTModel\n",
    "\n",
    "\n",
    "# f2r = Pix2PixFFTModel(f2r_train_dataset, f2r_test_dataset, \"front2right\", \"pix2pix-rpgmakerxp-fftsquare1000\", LAMBDA_FFT=1000)\n",
    "model = Pix2PixModel(f2b_train_dataset, f2b_test_dataset, \"front2back\", \"pix2pix-playground\")\n",
    "# f2r = Pix2PixWassersteinModel(f2r_train_dataset, f2r_test_dataset, \"front2right\", \"pix2pix-wgan\")\n",
    "STEPS = 2000\n",
    "print(\"Starting training...\")\n",
    "model.fit(STEPS, 1000, callbacks=[])#, callbacks=[\"fid\", \"show_patches\"])\n"
   ]
  },
  {
   "cell_type": "code",
   "execution_count": 8,
   "id": "a2ab49ac-375d-42ef-bea9-4e75aa0d921c",
   "metadata": {
    "execution": {
     "iopub.execute_input": "2022-02-24T14:50:07.938964Z",
     "iopub.status.busy": "2022-02-24T14:50:07.938964Z",
     "iopub.status.idle": "2022-02-24T14:50:07.953761Z",
     "shell.execute_reply": "2022-02-24T14:50:07.952765Z",
     "shell.execute_reply.started": "2022-02-24T14:50:07.938964Z"
    },
    "tags": []
   },
   "outputs": [],
   "source": [
    "# f2r.load_generator()\n",
    "# model.generate_images_from_dataset()"
   ]
  },
  {
   "cell_type": "code",
   "execution_count": 9,
   "id": "08e37445-23e6-4672-aea4-c139b2906913",
   "metadata": {
    "execution": {
     "iopub.execute_input": "2022-02-24T14:50:07.954759Z",
     "iopub.status.busy": "2022-02-24T14:50:07.954759Z",
     "iopub.status.idle": "2022-02-24T14:50:07.969726Z",
     "shell.execute_reply": "2022-02-24T14:50:07.968721Z",
     "shell.execute_reply.started": "2022-02-24T14:50:07.954759Z"
    },
    "tags": []
   },
   "outputs": [],
   "source": [
    "# model.save_generator()\n",
    "# model.save_discriminator()"
   ]
  },
  {
   "cell_type": "code",
   "execution_count": 10,
   "id": "7a610080-6b80-4e17-8292-3b3919e4cffb",
   "metadata": {
    "execution": {
     "iopub.execute_input": "2022-02-24T14:50:07.970716Z",
     "iopub.status.busy": "2022-02-24T14:50:07.970716Z",
     "iopub.status.idle": "2022-02-24T14:50:07.985676Z",
     "shell.execute_reply": "2022-02-24T14:50:07.984678Z",
     "shell.execute_reply.started": "2022-02-24T14:50:07.970716Z"
    },
    "tags": []
   },
   "outputs": [],
   "source": [
    "# print(\"Showing discriminator output from TRAIn set...\")\n",
    "# model.generate_discriminated_images(\"train\")\n",
    "# print(\"Showing discriminator output from TEST set...\")\n",
    "# model.generate_discriminated_images(\"test\")"
   ]
  },
  {
   "cell_type": "code",
   "execution_count": null,
   "id": "3dacb426-1e91-4eaf-9a3f-72da8401b1fb",
   "metadata": {},
   "outputs": [],
   "source": []
  }
 ],
 "metadata": {
  "kernelspec": {
   "display_name": "Python 3 (ipykernel)",
   "language": "python",
   "name": "python3"
  },
  "language_info": {
   "codemirror_mode": {
    "name": "ipython",
    "version": 3
   },
   "file_extension": ".py",
   "mimetype": "text/x-python",
   "name": "python",
   "nbconvert_exporter": "python",
   "pygments_lexer": "ipython3",
   "version": "3.9.9"
  }
 },
 "nbformat": 4,
 "nbformat_minor": 5
}
