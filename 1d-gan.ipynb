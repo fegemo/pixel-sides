{
 "cells": [
  {
   "cell_type": "markdown",
   "id": "110c70b4-4743-4530-8895-9f55f7a6de1c",
   "metadata": {
    "pycharm": {
     "name": "#%% md\n"
    }
   },
   "source": [
    "# 1D GAN"
   ]
  },
  {
   "cell_type": "markdown",
   "id": "f47b8dcd-c9e3-4579-b28a-1c1ad8d1df40",
   "metadata": {
    "pycharm": {
     "name": "#%% md\n"
    }
   },
   "source": [
    "Inspirado por postagem do Jason Brownlee: https://machinelearningmastery.com/how-to-develop-a-generative-adversarial-network-for-a-1-dimensional-function-from-scratch-in-keras/"
   ]
  },
  {
   "cell_type": "code",
   "execution_count": 1,
   "id": "74e15aec-60ee-437d-a5b0-d7966225e1ec",
   "metadata": {
    "execution": {
     "iopub.execute_input": "2022-03-21T14:33:45.027929Z",
     "iopub.status.busy": "2022-03-21T14:33:45.027929Z",
     "iopub.status.idle": "2022-03-21T14:33:45.032916Z",
     "shell.execute_reply": "2022-03-21T14:33:45.032916Z",
     "shell.execute_reply.started": "2022-03-21T14:33:45.027929Z"
    },
    "tags": [],
    "pycharm": {
     "name": "#%%\n"
    }
   },
   "outputs": [],
   "source": [
    "import tensorflow as tf\n",
    "from tensorflow import keras\n",
    "from tensorflow.keras import layers\n",
    "from matplotlib import pyplot as plt\n",
    "from tqdm import tqdm\n",
    "import tensorflow_addons as tfa\n",
    "from IPython import display"
   ]
  },
  {
   "cell_type": "code",
   "execution_count": 2,
   "id": "c8196dfc-1963-40f7-9bb6-f09653704df8",
   "metadata": {
    "execution": {
     "iopub.execute_input": "2022-03-21T16:01:01.644849Z",
     "iopub.status.busy": "2022-03-21T16:01:01.644849Z",
     "iopub.status.idle": "2022-03-21T16:01:01.662860Z",
     "shell.execute_reply": "2022-03-21T16:01:01.662860Z",
     "shell.execute_reply.started": "2022-03-21T16:01:01.644849Z"
    },
    "tags": [],
    "pycharm": {
     "name": "#%%\n"
    }
   },
   "outputs": [],
   "source": [
    "@tf.function\n",
    "def f(x):\n",
    "    # return x*x\n",
    "    return x*x*x+10*x*x-20\n",
    "    # return tf.math.sin(x)"
   ]
  },
  {
   "cell_type": "markdown",
   "id": "231c4f1b-def4-4814-aba7-baea376cdffa",
   "metadata": {
    "jp-MarkdownHeadingCollapsed": true,
    "tags": [],
    "pycharm": {
     "name": "#%% md\n"
    }
   },
   "source": [
    "## With Keras"
   ]
  },
  {
   "cell_type": "code",
   "execution_count": 3,
   "id": "093171aa-dc11-42cb-bb5b-64fabb2bc6cd",
   "metadata": {
    "tags": [],
    "pycharm": {
     "name": "#%%\n"
    }
   },
   "outputs": [
    {
     "name": "stdout",
     "output_type": "stream",
     "text": [
      "Model: \"discriminator\"\n",
      "_________________________________________________________________\n",
      " Layer (type)                Output Shape              Param #   \n",
      "=================================================================\n",
      " discriminator_dense_1 (Dens  (None, 25)               75        \n",
      " e)                                                              \n",
      "                                                                 \n",
      " discriminator_dense_2 (Dens  (None, 75)               1950      \n",
      " e)                                                              \n",
      "                                                                 \n",
      " discriminator_dense_3 (Dens  (None, 1)                76        \n",
      " e)                                                              \n",
      "                                                                 \n",
      "=================================================================\n",
      "Total params: 2,101\n",
      "Trainable params: 2,101\n",
      "Non-trainable params: 0\n",
      "_________________________________________________________________\n"
     ]
    }
   ],
   "source": [
    "discriminator = keras.Sequential([\n",
    "    layers.Dense(25, activation=\"relu\", input_dim=2, kernel_initializer=\"he_uniform\", name=\"discriminator_dense_1\"),\n",
    "    layers.Dense(75, activation=\"relu\", input_dim=2, kernel_initializer=\"he_uniform\", name=\"discriminator_dense_2\"),\n",
    "    layers.Dense(1, activation=\"sigmoid\", name=\"discriminator_dense_3\")\n",
    "], name=\"discriminator\")\n",
    "\n",
    "discriminator.summary()\n",
    "discriminator.compile(loss=\"binary_crossentropy\", optimizer=\"adam\", metrics=[\"accuracy\"])"
   ]
  },
  {
   "cell_type": "code",
   "execution_count": 4,
   "id": "c397ef65-05f5-41e9-8549-4c0a5ace12e4",
   "metadata": {
    "tags": [],
    "pycharm": {
     "name": "#%%\n"
    }
   },
   "outputs": [
    {
     "name": "stdout",
     "output_type": "stream",
     "text": [
      "Model: \"generator\"\n",
      "_________________________________________________________________\n",
      " Layer (type)                Output Shape              Param #   \n",
      "=================================================================\n",
      " generator_dense_1 (Dense)   (None, 25)                150       \n",
      "                                                                 \n",
      " generator_dense_2 (Dense)   (None, 70)                1820      \n",
      "                                                                 \n",
      " generator_dense_3 (Dense)   (None, 50)                3550      \n",
      "                                                                 \n",
      " generator_dense_4 (Dense)   (None, 2)                 102       \n",
      "                                                                 \n",
      "=================================================================\n",
      "Total params: 5,622\n",
      "Trainable params: 5,622\n",
      "Non-trainable params: 0\n",
      "_________________________________________________________________\n"
     ]
    }
   ],
   "source": [
    "generator = keras.Sequential([\n",
    "    layers.Dense(25, input_dim=5, activation=\"relu\", kernel_initializer=\"he_uniform\", name=\"generator_dense_1\"),\n",
    "    layers.Dense(70, activation=\"relu\", kernel_initializer=\"he_uniform\", name=\"generator_dense_2\"),\n",
    "    layers.Dense(50, activation=\"relu\", kernel_initializer=\"he_uniform\", name=\"generator_dense_3\"),\n",
    "    layers.Dense(2, name=\"generator_dense_4\")\n",
    "], name=\"generator\")\n",
    "\n",
    "generator.summary()"
   ]
  },
  {
   "cell_type": "code",
   "execution_count": 5,
   "id": "41443202-93ca-4c5b-9af1-8c592cf0d77a",
   "metadata": {
    "tags": [],
    "pycharm": {
     "name": "#%%\n"
    }
   },
   "outputs": [
    {
     "name": "stdout",
     "output_type": "stream",
     "text": [
      "Model: \"gan_model\"\n",
      "_________________________________________________________________\n",
      " Layer (type)                Output Shape              Param #   \n",
      "=================================================================\n",
      " generator (Sequential)      (None, 2)                 5622      \n",
      "                                                                 \n",
      " discriminator (Sequential)  (None, 1)                 2101      \n",
      "                                                                 \n",
      "=================================================================\n",
      "Total params: 7,723\n",
      "Trainable params: 5,622\n",
      "Non-trainable params: 2,101\n",
      "_________________________________________________________________\n"
     ]
    }
   ],
   "source": [
    "discriminator.trainable = False\n",
    "gan_model = keras.Sequential([\n",
    "    generator,\n",
    "    discriminator\n",
    "], name=\"gan_model\")\n",
    "gan_model.summary()\n",
    "gan_model.compile(loss=\"binary_crossentropy\", optimizer=\"adam\")"
   ]
  },
  {
   "cell_type": "code",
   "execution_count": 6,
   "id": "b9e82c44-373c-42c2-b169-51679547c5b9",
   "metadata": {
    "tags": [],
    "pycharm": {
     "name": "#%%\n"
    }
   },
   "outputs": [],
   "source": [
    "def train(epochs=100, batch_size=128):\n",
    "    half_batch = tf.cast(batch_size / 2, tf.int32)\n",
    "\n",
    "    for epoch in range(epochs):\n",
    "        # generate half batch of real samples\n",
    "        x1_real = tf.random.uniform(shape=[half_batch], minval=-5.0, maxval=5.0)\n",
    "        x2_real = f(x1_real)\n",
    "        x_real = tf.stack([x1_real, x2_real], axis=-1)\n",
    "        \n",
    "        # generate half batch of fake samples\n",
    "        fake_latent = tf.random.normal(shape=[half_batch, 5])\n",
    "        x_fake = generator(fake_latent, training=True)\n",
    "        \n",
    "        # train discriminator\n",
    "        discriminator.train_on_batch(x_real, tf.ones(shape=[half_batch, 1]))\n",
    "        discriminator.train_on_batch(x_fake, tf.zeros(shape=[half_batch, 1]))\n",
    "        \n",
    "        # train generator\n",
    "        gan_model.train_on_batch(fake_latent, tf.ones(shape=[half_batch, 1]))\n",
    "        \n",
    "        # evaluation\n",
    "        if (epoch+1) % 100 == 0:\n",
    "            summarize_performance(epoch)"
   ]
  },
  {
   "cell_type": "code",
   "execution_count": 7,
   "id": "16c449b7-74bc-43e0-965b-6cd03584df71",
   "metadata": {
    "tags": [],
    "pycharm": {
     "name": "#%%\n"
    }
   },
   "outputs": [],
   "source": [
    "x1_real = tf.random.uniform(shape=[100], minval=-5.0, maxval=5.0)\n",
    "fake_latent = tf.random.normal(shape=[100, 5])\n",
    "\n",
    "def summarize_performance(epoch):\n",
    "    # evaluate the discriminator first\n",
    "    x_real = tf.stack([x1_real, f(x1_real)], axis=-1)\n",
    "    _, accuracy_real = discriminator.evaluate(x_real, tf.ones(shape=[100, 1]), verbose=0)\n",
    "    \n",
    "    x_fake = generator(fake_latent)\n",
    "    _, accuracy_fake = discriminator.evaluate(x_fake, tf.zeros(shape=[100, 1]), verbose=0)\n",
    "    \n",
    "    display.clear_output(wait=True)\n",
    "    print(f\"Epoch {epoch+1}: discrim. accuracy for real: {accuracy_real}, for fake: {accuracy_fake}\")\n",
    "    \n",
    "    # scatter plot real and fake data points\n",
    "    plt.scatter(x_real[:, 0], x_real[:, 1], color=\"red\")\n",
    "    plt.scatter(x_fake[:, 0], x_fake[:, 1], color=\"blue\")\n",
    "    plt.show()"
   ]
  },
  {
   "cell_type": "code",
   "execution_count": 8,
   "id": "15037b6e-6f2a-4057-9aa7-9256fae1164f",
   "metadata": {
    "tags": [],
    "pycharm": {
     "name": "#%%\n"
    }
   },
   "outputs": [
    {
     "name": "stdout",
     "output_type": "stream",
     "text": [
      "Epoch 4000: discrim. accuracy for real: 0.800000011920929, for fake: 0.3799999952316284\n"
     ]
    },
    {
     "data": {
      "text/plain": "<Figure size 432x288 with 1 Axes>",
      "image/png": "[encoded data removed]"
     },
     "metadata": {
      "needs_background": "light"
     },
     "output_type": "display_data"
    }
   ],
   "source": [
    "train(4000)"
   ]
  },
  {
   "cell_type": "code",
   "execution_count": 9,
   "id": "fe18bc6f-6298-4816-9e57-769a492fed6b",
   "metadata": {
    "tags": [],
    "pycharm": {
     "name": "#%%\n"
    }
   },
   "outputs": [
    {
     "name": "stdout",
     "output_type": "stream",
     "text": [
      "Accuracy for real: 0.800000011920929, for fake: 0.3400000035762787\n"
     ]
    },
    {
     "data": {
      "text/plain": "<Figure size 432x288 with 1 Axes>",
      "image/png": "[encoded data removed]"
     },
     "metadata": {
      "needs_background": "light"
     },
     "output_type": "display_data"
    }
   ],
   "source": [
    "def test_generator():\n",
    "    fake_latent = tf.random.normal(shape=[100, 5])\n",
    "    x_real = tf.stack([x1_real, f(x1_real)], axis=-1)\n",
    "    _, accuracy_real = discriminator.evaluate(x_real, tf.ones(shape=[100, 1]), verbose=0)\n",
    "\n",
    "    x_fake = generator(fake_latent)\n",
    "    _, accuracy_fake = discriminator.evaluate(x_fake, tf.zeros(shape=[100, 1]), verbose=0)\n",
    "\n",
    "    print(f\"Accuracy for real: {accuracy_real}, for fake: {accuracy_fake}\")\n",
    "\n",
    "    # scatter plot real and fake data points\n",
    "    plt.scatter(x_real[:, 0], x_real[:, 1], color=\"red\")\n",
    "    plt.scatter(x_fake[:, 0], x_fake[:, 1], color=\"blue\")\n",
    "    plt.show()\n",
    "    \n",
    "test_generator()"
   ]
  },
  {
   "cell_type": "markdown",
   "id": "093e1bdb-4b6e-4ac0-abc0-988751ad5690",
   "metadata": {
    "jp-MarkdownHeadingCollapsed": true,
    "tags": [],
    "pycharm": {
     "name": "#%% md\n"
    }
   },
   "source": [
    "## With Custom Training Loop"
   ]
  },
  {
   "cell_type": "code",
   "execution_count": 10,
   "id": "66b21c5f-977b-4130-bd63-f36ff12ea9e8",
   "metadata": {
    "tags": [],
    "pycharm": {
     "name": "#%%\n"
    }
   },
   "outputs": [],
   "source": [
    "def create_discriminator_ctl():\n",
    "    return keras.Sequential([\n",
    "        layers.Dense(25, activation=\"relu\", input_dim=2, kernel_initializer=\"he_uniform\", name=\"discriminator_dense_1_ctl\"),\n",
    "        layers.Dense(75, activation=\"relu\", input_dim=2, kernel_initializer=\"he_uniform\", name=\"discriminator_dense_2_ctl\"),\n",
    "        layers.Dense(1, activation=\"sigmoid\", name=\"discriminator_dense_3_ctl\")\n",
    "    ], name=\"discriminator_custom_ctl\")"
   ]
  },
  {
   "cell_type": "code",
   "execution_count": 11,
   "id": "062e5d06-a7ad-496a-995c-66e73a2a285a",
   "metadata": {
    "tags": [],
    "pycharm": {
     "name": "#%%\n"
    }
   },
   "outputs": [],
   "source": [
    "def create_generator_ctl():\n",
    "    return keras.Sequential([\n",
    "    layers.Dense(25, input_dim=5, activation=\"relu\", kernel_initializer=\"he_uniform\", name=\"generator_dense_1_ctl\"),\n",
    "    layers.Dense(70, activation=\"relu\", kernel_initializer=\"he_uniform\", name=\"generator_dense_2_ctl\"),\n",
    "    layers.Dense(50, activation=\"relu\", kernel_initializer=\"he_uniform\", name=\"generator_dense_3_ctl\"),\n",
    "    layers.Dense(2, name=\"generator_dense_4_ctl\")\n",
    "], name=\"generator_custom_ctl\")"
   ]
  },
  {
   "cell_type": "code",
   "execution_count": 12,
   "id": "f0a7cbe0-a4b3-4aed-b32b-cb5f586592aa",
   "metadata": {
    "tags": [],
    "pycharm": {
     "name": "#%%\n"
    }
   },
   "outputs": [],
   "source": [
    "loss_function = keras.losses.BinaryCrossentropy()\n",
    "optimizer_generator = keras.optimizers.Adam(learning_rate=0.001)\n",
    "optimizer_discriminator = keras.optimizers.Adam()"
   ]
  },
  {
   "cell_type": "code",
   "execution_count": 13,
   "id": "997d685f-5d02-4fee-b023-15498d3fef8d",
   "metadata": {
    "tags": [],
    "pycharm": {
     "name": "#%%\n"
    }
   },
   "outputs": [],
   "source": [
    "@tf.function\n",
    "def train_step(g, d, x_real, fake_latent, batch_size):    \n",
    "    with tf.GradientTape() as disc_tape, tf.GradientTape() as gen_tape:\n",
    "        x_fake = g(fake_latent, training=True)\n",
    "        \n",
    "        discriminated_real = d(x_real, training=True)\n",
    "        discriminated_fake = d(x_fake, training=True)\n",
    "        \n",
    "        generator_loss = loss_function(tf.ones(shape=[batch_size, 1]), discriminated_fake)\n",
    "        discriminator_loss = loss_function(tf.ones(shape=[batch_size, 1]), discriminated_real) + loss_function(tf.zeros(shape=[batch_size, 1]), discriminated_fake)\n",
    "    \n",
    "    generator_gradients = gen_tape.gradient(generator_loss, g.trainable_variables)\n",
    "    discriminator_gradients = disc_tape.gradient(discriminator_loss, d.trainable_variables)\n",
    "    \n",
    "    optimizer_generator.apply_gradients(zip(generator_gradients, g.trainable_variables))\n",
    "    optimizer_discriminator.apply_gradients(zip(discriminator_gradients, d.trainable_variables))\n",
    "    \n",
    "\n",
    "def train_custom_loop(g, d, epochs=100, batch_size=128):\n",
    "    for epoch in range(epochs):\n",
    "        # generate batch of real samples\n",
    "        x1_real = tf.random.uniform(shape=[batch_size], minval=-5.0, maxval=5.0)\n",
    "        x2_real = f(x1_real)\n",
    "        x_real = tf.stack([x1_real, x2_real], axis=-1)\n",
    "\n",
    "        # generate batch of fake samples\n",
    "        fake_latent = tf.random.normal(shape=[batch_size, 5])\n",
    "\n",
    "        train_step(g, d, x_real, fake_latent, batch_size)\n",
    "        \n",
    "        # evaluation\n",
    "        if (epoch+1) % 100 == 0:\n",
    "            summarize_performance_ctl(g, epoch)"
   ]
  },
  {
   "cell_type": "code",
   "execution_count": 14,
   "id": "03fce9a9-369e-4314-ac05-be5ae644dcca",
   "metadata": {
    "tags": [],
    "pycharm": {
     "name": "#%%\n"
    }
   },
   "outputs": [],
   "source": [
    "x1_real = tf.random.uniform(shape=[100], minval=-5.0, maxval=5.0)\n",
    "fake_latent = tf.random.normal(shape=[100, 5])\n",
    "\n",
    "def summarize_performance_ctl(g, epoch, fixed_window=True):\n",
    "    x_real = tf.stack([x1_real, f(x1_real)], axis=-1)\n",
    "    x_fake = g(fake_latent)\n",
    "    \n",
    "    display.clear_output(wait=True)\n",
    "    print(f\"Epoch {epoch+1}:\")\n",
    "    \n",
    "    # scatter plot real and fake data points\n",
    "    if fixed_window:\n",
    "        plt.xlim((-6., 6.))\n",
    "        plt.ylim((-1.5, 1.5))\n",
    "    plt.scatter(x_real[:, 0], x_real[:, 1], color=\"red\")\n",
    "    plt.scatter(x_fake[:, 0], x_fake[:, 1], color=\"blue\")\n",
    "    plt.show()"
   ]
  },
  {
   "cell_type": "code",
   "execution_count": 15,
   "id": "db534b3c-d9ea-4710-918a-7e1b2de8da43",
   "metadata": {
    "tags": [],
    "pycharm": {
     "name": "#%%\n"
    }
   },
   "outputs": [
    {
     "name": "stdout",
     "output_type": "stream",
     "text": [
      "Epoch 4000:\n"
     ]
    },
    {
     "data": {
      "text/plain": "<Figure size 432x288 with 1 Axes>",
      "image/png": "[encoded data removed]"
     },
     "metadata": {
      "needs_background": "light"
     },
     "output_type": "display_data"
    }
   ],
   "source": [
    "discriminator_ctl = create_discriminator_ctl()\n",
    "generator_ctl = create_generator_ctl()\n",
    "\n",
    "train_custom_loop(generator_ctl, discriminator_ctl, 4000, 128)"
   ]
  },
  {
   "cell_type": "markdown",
   "id": "ed48c349-90f1-4483-a497-136fe294b949",
   "metadata": {
    "pycharm": {
     "name": "#%% md\n"
    }
   },
   "source": [
    "## CTL with Wasserstein Loss"
   ]
  },
  {
   "cell_type": "code",
   "execution_count": 16,
   "id": "1b1b0d75-a4f4-4798-98e8-dcfde2efa7c4",
   "metadata": {
    "execution": {
     "iopub.execute_input": "2022-03-21T14:33:48.793796Z",
     "iopub.status.busy": "2022-03-21T14:33:48.793796Z",
     "iopub.status.idle": "2022-03-21T14:33:48.806765Z",
     "shell.execute_reply": "2022-03-21T14:33:48.805771Z",
     "shell.execute_reply.started": "2022-03-21T14:33:48.793796Z"
    },
    "tags": [],
    "pycharm": {
     "name": "#%%\n"
    }
   },
   "outputs": [],
   "source": [
    "def create_critic_wass():\n",
    "    return keras.Sequential([\n",
    "        layers.Dense(25, activation=\"relu\", input_dim=2, kernel_initializer=\"he_uniform\", name=\"critic_dense_1_wass\"),\n",
    "        layers.Dense(75, activation=\"relu\", kernel_initializer=\"he_uniform\", name=\"critic_dense_2_wass\"),\n",
    "        layers.Dense(125, activation=\"relu\", kernel_initializer=\"he_uniform\", name=\"critic_dense_3_wass\"),\n",
    "        layers.Dense(1, activation=\"linear\", name=\"critic_dense_4_wass\")\n",
    "    ], name=\"critic_wass\")"
   ]
  },
  {
   "cell_type": "code",
   "execution_count": 17,
   "id": "de9863f3-c2be-47eb-b2e6-ee40653f17ab",
   "metadata": {
    "execution": {
     "iopub.execute_input": "2022-03-21T14:33:50.310568Z",
     "iopub.status.busy": "2022-03-21T14:33:50.309570Z",
     "iopub.status.idle": "2022-03-21T14:33:50.325506Z",
     "shell.execute_reply": "2022-03-21T14:33:50.324510Z",
     "shell.execute_reply.started": "2022-03-21T14:33:50.310568Z"
    },
    "tags": [],
    "pycharm": {
     "name": "#%%\n"
    }
   },
   "outputs": [],
   "source": [
    "def create_generator_wass():\n",
    "    return keras.Sequential([\n",
    "        layers.Dense(25, input_dim=5, activation=\"relu\", kernel_initializer=\"he_uniform\", name=\"generator_dense_1_wass\"),\n",
    "        layers.Dense(70, activation=\"relu\", kernel_initializer=\"he_uniform\", name=\"generator_dense_2_wass\"),\n",
    "        layers.Dense(50, activation=\"relu\", kernel_initializer=\"he_uniform\", name=\"generator_dense_3_wass\"),\n",
    "        layers.Dense(2, activation=\"linear\", name=\"generator_dense_4_wass\")\n",
    "], name=\"generator_wass\")"
   ]
  },
  {
   "cell_type": "code",
   "execution_count": 18,
   "id": "6c52ade1-725b-4bd6-847e-65bef08ac949",
   "metadata": {
    "execution": {
     "iopub.execute_input": "2022-03-21T15:57:09.427463Z",
     "iopub.status.busy": "2022-03-21T15:57:09.426466Z",
     "iopub.status.idle": "2022-03-21T15:57:09.448789Z",
     "shell.execute_reply": "2022-03-21T15:57:09.447791Z",
     "shell.execute_reply.started": "2022-03-21T15:57:09.427463Z"
    },
    "tags": [],
    "pycharm": {
     "name": "#%%\n"
    }
   },
   "outputs": [],
   "source": [
    "@tf.function\n",
    "def train_step_critic_wass(g, c, batch_size):  \n",
    "    # generate batch of real samples\n",
    "    x1_real = tf.random.uniform(shape=[batch_size], minval=-5.0, maxval=5.0)\n",
    "    x2_real = f(x1_real)\n",
    "    x_real = tf.stack([x1_real, x2_real], axis=-1)\n",
    "\n",
    "    # generate batch of fake samples\n",
    "    fake_latent = tf.random.normal(shape=[batch_size, 5])\n",
    "\n",
    "    # gradient penalty for W Loss\n",
    "    gp_epsilon = tf.random.uniform(shape=[batch_size, 1])\n",
    "    with tf.GradientTape(persistent=True) as critic_tape:\n",
    "        with tf.GradientTape() as gp_tape:\n",
    "            x_fake = g(fake_latent, training=True)\n",
    "            x_fake_mixed = gp_epsilon * x_real + (1 - gp_epsilon) * x_fake\n",
    "            x_fake_mixed_predicted = c(x_fake_mixed, training=True)\n",
    "            \n",
    "            # computing the gradient penalty\n",
    "            gp_grads = gp_tape.gradient(x_fake_mixed_predicted, x_fake_mixed)\n",
    "            gp_grad_norms = tf.sqrt(tf.reduce_sum(tf.square(gp_grads), axis=[1]))\n",
    "            gradient_penalty = tf.reduce_mean(tf.square(gp_grad_norms - 1))\n",
    "\n",
    "        criticized_real = c(x_real, training=True)\n",
    "        criticized_fake = c(x_fake, training=True)\n",
    "        \n",
    "        loss_real = tf.reduce_mean(criticized_real)\n",
    "        loss_fake = tf.reduce_mean(criticized_fake)\n",
    "        loss_gp = 10. * gradient_penalty\n",
    "        critic_loss = loss_fake - loss_real + loss_gp\n",
    "        # tf.print(\"loss_real:\", loss_real, \"loss_fake:\", loss_fake, \"loss_gp:\", loss_gp)\n",
    "        # tf.print(\"critic_loss\", critic_loss)\n",
    "    \n",
    "    critic_gradients = critic_tape.gradient(critic_loss, c.trainable_variables)    \n",
    "    optimizer_critic_wass.apply_gradients(zip(critic_gradients, c.trainable_variables))\n",
    "    \n",
    "    \n",
    "@tf.function\n",
    "def train_step_generator_wass(g, c, batch_size):\n",
    "    fake_latent = tf.random.normal(shape=[batch_size, 5])\n",
    "\n",
    "    with tf.GradientTape() as gen_tape:\n",
    "        x_fake = g(fake_latent, training=True)\n",
    "        criticized_fake = c(x_fake, training=True)\n",
    "        loss_fake = tf.reduce_mean(criticized_fake)\n",
    "        generator_loss = -loss_fake\n",
    "\n",
    "    # tf.print(\"generator_loss\", generator_loss)\n",
    "    generator_gradients = gen_tape.gradient(generator_loss, g.trainable_variables)\n",
    "    optimizer_generator_wass.apply_gradients(zip(generator_gradients, g.trainable_variables))\n",
    "\n",
    "    \n",
    "def train_custom_loop_wass(g, c, epochs=100, batch_size=128, n_critic=5):\n",
    "    for epoch in tqdm(range(epochs)):\n",
    "        for i in range(n_critic):\n",
    "            train_step_critic_wass(g, c, batch_size)\n",
    "\n",
    "        train_step_generator_wass(g, c, batch_size)\n",
    "        \n",
    "        # evaluation\n",
    "        if (epoch+1) % 100 == 0:\n",
    "            summarize_performance_wass(g, epoch, False)\n",
    "\n"
   ]
  },
  {
   "cell_type": "code",
   "execution_count": 19,
   "id": "ddb8246a-891c-4a96-ba00-7e4cdd79f95d",
   "metadata": {
    "execution": {
     "iopub.execute_input": "2022-03-21T15:29:47.091644Z",
     "iopub.status.busy": "2022-03-21T15:29:47.091644Z",
     "iopub.status.idle": "2022-03-21T15:29:47.100667Z",
     "shell.execute_reply": "2022-03-21T15:29:47.099643Z",
     "shell.execute_reply.started": "2022-03-21T15:29:47.091644Z"
    },
    "tags": [],
    "pycharm": {
     "name": "#%%\n"
    }
   },
   "outputs": [],
   "source": [
    "x1_real = tf.random.uniform(shape=[100], minval=-5.0, maxval=5.0)\n",
    "fake_latent = tf.random.normal(shape=[100, 5])\n",
    "\n",
    "def summarize_performance_wass(g, epoch, fixed_window=True):\n",
    "    x_real = tf.stack([x1_real, f(x1_real)], axis=-1)\n",
    "    x_fake = g(fake_latent)\n",
    "    \n",
    "    display.clear_output(wait=True)\n",
    "    print(f\"Epoch {epoch+1}:\")\n",
    "    \n",
    "    # scatter plot real and fake data points\n",
    "    if fixed_window:\n",
    "        plt.xlim((-6., 6.))\n",
    "        plt.ylim((-1.5, 1.5))\n",
    "    plt.scatter(x_real[:, 0], x_real[:, 1], color=\"red\")\n",
    "    plt.scatter(x_fake[:, 0], x_fake[:, 1], color=\"blue\")\n",
    "    plt.show()"
   ]
  },
  {
   "cell_type": "code",
   "execution_count": 20,
   "id": "b1e16c12-7809-47be-8272-d868be3facc7",
   "metadata": {
    "execution": {
     "iopub.execute_input": "2022-03-21T15:57:12.082655Z",
     "iopub.status.busy": "2022-03-21T15:57:12.081631Z",
     "iopub.status.idle": "2022-03-21T16:00:37.745461Z",
     "shell.execute_reply": "2022-03-21T16:00:37.744497Z",
     "shell.execute_reply.started": "2022-03-21T15:57:12.082655Z"
    },
    "tags": [],
    "pycharm": {
     "name": "#%%\n"
    }
   },
   "outputs": [
    {
     "name": "stdout",
     "output_type": "stream",
     "text": [
      "Epoch 10000:\n"
     ]
    },
    {
     "data": {
      "text/plain": "<Figure size 432x288 with 1 Axes>",
      "image/png": "[encoded data removed]"
     },
     "metadata": {
      "needs_background": "light"
     },
     "output_type": "display_data"
    },
    {
     "name": "stderr",
     "output_type": "stream",
     "text": [
      "100%|██████████| 10000/10000 [04:24<00:00, 37.78it/s]\n"
     ]
    }
   ],
   "source": [
    "lr_scheduler = keras.optimizers.schedules.ExponentialDecay(\n",
    "    initial_learning_rate=0.005,\n",
    "    decay_steps=1000,\n",
    "    decay_rate=0.75)\n",
    "optimizer_generator_wass = keras.optimizers.Adam(lr_scheduler, beta_1=0.5)\n",
    "optimizer_critic_wass = keras.optimizers.Adam(0.0005, beta_1=0.5)\n",
    "\n",
    "critic_wass = create_critic_wass()\n",
    "generator_wass = create_generator_wass()\n",
    "\n",
    "train_custom_loop_wass(generator_wass, critic_wass, 10000, 128, n_critic=5)"
   ]
  }
 ],
 "metadata": {
  "kernelspec": {
   "display_name": "Python 3 (ipykernel)",
   "language": "python",
   "name": "python3"
  },
  "language_info": {
   "codemirror_mode": {
    "name": "ipython",
    "version": 3
   },
   "file_extension": ".py",
   "mimetype": "text/x-python",
   "name": "python",
   "nbconvert_exporter": "python",
   "pygments_lexer": "ipython3",
   "version": "3.9.9"
  }
 },
 "nbformat": 4,
 "nbformat_minor": 5
}