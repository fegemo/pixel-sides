{
 "cells": [
  {
   "cell_type": "code",
   "execution_count": 2,
   "id": "9f1a695d-982d-4ee9-b99f-11c9f68ca641",
   "metadata": {
    "execution": {
     "iopub.execute_input": "2022-02-12T00:04:19.122262Z",
     "iopub.status.busy": "2022-02-12T00:04:19.121681Z",
     "iopub.status.idle": "2022-02-12T00:04:30.965381Z",
     "shell.execute_reply": "2022-02-12T00:04:30.965163Z",
     "shell.execute_reply.started": "2022-02-12T00:04:19.122262Z"
    },
    "tags": []
   },
   "outputs": [],
   "source": [
    "import frechet_inception_distance as fid\n",
    "from numpy.random import randint\n",
    "import os"
   ]
  },
  {
   "cell_type": "code",
   "execution_count": 3,
   "id": "fd35b09c-162d-461e-a91f-0d1cdb4f4cef",
   "metadata": {
    "execution": {
     "iopub.execute_input": "2022-02-12T00:04:30.967764Z",
     "iopub.status.busy": "2022-02-12T00:04:30.966603Z",
     "iopub.status.idle": "2022-02-12T00:08:41.629585Z",
     "shell.execute_reply": "2022-02-12T00:08:41.628883Z",
     "shell.execute_reply.started": "2022-02-12T00:04:30.967600Z"
    },
    "tags": []
   },
   "outputs": [
    {
     "name": "stdout",
     "output_type": "stream",
     "text": [
      "Scaled (458, 299, 299, 3) (458, 299, 299, 3)\n",
      "FID test/generated 145.659\n",
      "Scaled (458, 299, 299, 3) (458, 299, 299, 3)\n",
      "FID input/generated 163.422\n",
      "Scaled (458, 299, 299, 3) (458, 299, 299, 3)\n",
      "FID input/test 61.987\n"
     ]
    }
   ],
   "source": [
    "# fid between two set of images... can call with either np vector or strings representing paths to folders\n",
    "input_images_path = os.sep.join([\"temp_side2side\", \"test_outputs\", \"input\"])\n",
    "test_images_path = os.sep.join([\"temp_side2side\", \"test_outputs\", \"target\"]) #images1\n",
    "generated_images_path = os.sep.join([\"temp_side2side\", \"test_outputs\", \"generated\"]) #images2\n",
    "value = fid.compare(test_images_path, generated_images_path)\n",
    "print(f\"FID test/generated {value:.3f}\")\n",
    "value = fid.compare(input_images_path, generated_images_path)\n",
    "print(f\"FID input/generated {value:.3f}\")\n",
    "value = fid.compare(input_images_path, test_images_path)\n",
    "print(f\"FID input/test {value:.3f}\")\n"
   ]
  }
 ],
 "metadata": {
  "kernelspec": {
   "display_name": "Python 3 (ipykernel)",
   "language": "python",
   "name": "python3"
  },
  "language_info": {
   "codemirror_mode": {
    "name": "ipython",
    "version": 3
   },
   "file_extension": ".py",
   "mimetype": "text/x-python",
   "name": "python",
   "nbconvert_exporter": "python",
   "pygments_lexer": "ipython3",
   "version": "3.9.9"
  }
 },
 "nbformat": 4,
 "nbformat_minor": 5
}
