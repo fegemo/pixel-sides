{
 "cells": [
  {
   "cell_type": "markdown",
   "id": "e5b17465-79bf-4888-bd03-7de81e514e47",
   "metadata": {},
   "source": [
    "# Coletando imagens do RPG Maker\n",
    "\n",
    ".\n",
    "\n",
    "Este _notebook_ é parte do trabalho [pixel sides](pixel-sides.ipynb). Ele descreve a coleta de imagens provenientes do RPG Maker 2000\n",
    "para gerar um pequeno _dataset_ de imagens de personagens em _pixel art_ no tamanho $(64, 64, 4)$."
   ]
  },
  {
   "cell_type": "code",
   "execution_count": 3,
   "id": "caeef962-9f64-4189-b5ef-6fb0040e1224",
   "metadata": {},
   "outputs": [],
   "source": [
    "from PIL import Image\n",
    "import os\n",
    "\n",
    "def crop(file_path, tile_height, tile_width):\n",
    "    image = Image.open(file_path)\n",
    "    image = image.convert(\"RGBA\")\n",
    "    image_width, image_height = image.size\n",
    "    for i in range(image_height // tile_height):\n",
    "        for j in range(image_width // tile_width):\n",
    "            tile = (j*tile_width, i*tile_height, (j+1)*tile_width, (i+1)*tile_height)\n",
    "            yield image.crop(tile), i, j\n",
    "\n",
    "def replace_color(data_array, source_color, target_color):\n",
    "    red, green, blue, alpha = data_array.T\n",
    "    color_key_mask = (red == source_color[0]) & (green == source_color[1]) & (blue == source_color[2])\n",
    "    data_array[color_key_mask.T] = target_color\n",
    "    return data_array\n",
    "\n",
    "\n"
   ]
  },
  {
   "cell_type": "markdown",
   "id": "627f65c9-96af-43ab-9009-fe22f781e700",
   "metadata": {},
   "source": [
    "## Gerando _dataset_ de _CharSets_ do RPG Maker 2000"
   ]
  },
  {
   "cell_type": "code",
   "execution_count": 4,
   "id": "248f959d-78f5-4813-be7e-582f4402b62d",
   "metadata": {},
   "outputs": [
    {
     "name": "stdout",
     "output_type": "stream",
     "text": [
      "Processou Actor1.png gerando 96 novas imagens de entrada\n",
      "Processou Actor2.png gerando 96 novas imagens de entrada\n",
      "Processou Actor3.png gerando 96 novas imagens de entrada\n",
      "Processou Actor4.png gerando 96 novas imagens de entrada\n",
      "Processou People1.png gerando 96 novas imagens de entrada\n",
      "Processou People2.png gerando 96 novas imagens de entrada\n",
      "Processou People3.png gerando 96 novas imagens de entrada\n",
      "Processou People4.png gerando 96 novas imagens de entrada\n",
      "Processou People5.png gerando 96 novas imagens de entrada\n",
      "Fim!\n"
     ]
    },
    {
     "data": {
      "image/png": "[encoded data removed]",
      "text/plain": [
       "<Figure size 576x576 with 16 Axes>"
      ]
     },
     "metadata": {
      "needs_background": "light"
     },
     "output_type": "display_data"
    }
   ],
   "source": [
    "import numpy as np\n",
    "import matplotlib.pyplot as plt\n",
    "from io_utils import ensure_folder_structure\n",
    "\n",
    "folder = \"./sources-for-datasets/RPG Maker 2000 RTP/CharSet\"\n",
    "files = [\"Actor1.png\", \"Actor2.png\", \"Actor3.png\", \"Actor4.png\", \"People1.png\", \"People2.png\", \"People3.png\", \"People4.png\", \"People5.png\"]\n",
    "height = 32\n",
    "width = 24\n",
    "color_key = (32, 156, 0)\n",
    "pad_vertical = (64 - 64) // 2\n",
    "pad_horizontal = (64 - 48) // 2\n",
    "padding = ((pad_vertical, pad_vertical), (pad_horizontal, pad_horizontal), (0, 0))\n",
    "sample_images = []\n",
    "sample_labels = []\n",
    "row_to_folder_mapping = [\"0-back\", \"3-right\", \"2-front\", \"1-left\"]\n",
    "\n",
    "for file_name in files:\n",
    "    tiles = 0\n",
    "    for k, (data, i, j) in enumerate(crop(os.path.join(folder, file_name), height, width)):\n",
    "        # pega apenas j%3 == 1 (parado, sem estar andando)\n",
    "#         if j%3 != 1:\n",
    "#             continue\n",
    "        \n",
    "        tiles = tiles + 1\n",
    "        # 1. redimensiona altura de 32 pra 64\n",
    "        data = data.resize((48, 64), Image.NEAREST)\n",
    "        \n",
    "        # 2. substitui o verde de fundo padrão do RPG Maker por preto\n",
    "        data_array = np.array(data)\n",
    "        data_array = replace_color(data_array, color_key, (0, 0, 0, 0))\n",
    "        \n",
    "        # 3. preenche de (64, 48) para (64, 64)\n",
    "        data_array = np.pad(data_array, padding, \"constant\", constant_values=0)\n",
    "\n",
    "        if np.random.rand() < 0.8:\n",
    "            sample_images.append(data_array)\n",
    "            sample_labels.append(row_to_folder_mapping[i % 4])\n",
    "\n",
    "        # 4. salva imagem\n",
    "        image = Image.fromarray(data_array)\n",
    "            \n",
    "        ensure_folder_structure(\"rpg-maker\", row_to_folder_mapping[i % 4])\n",
    "        new_file_path = os.path.join(\"rpg-maker\", row_to_folder_mapping[i % 4], \"tile-%s.png\" % k)\n",
    "        image.save(new_file_path)\n",
    "    print(f\"Processou {file_name} gerando {tiles} novas imagens de entrada\")\n",
    "    \n",
    "print(\"Fim!\")\n",
    "\n",
    "\n",
    "# mostra algumas imagens extraídas\n",
    "sample_indices = np.random.choice(len(sample_images), 16, replace=False)\n",
    "sample_images = np.array(sample_images)[sample_indices]\n",
    "sample_labels = np.array(sample_labels)[sample_indices]\n",
    "\n",
    "fig = plt.figure(figsize=(8, 8))\n",
    "plt.suptitle(\"Exemplos extraídos do RPG Maker 2000\")\n",
    "fig.subplots_adjust(hspace=.5)\n",
    "for i in range(4):\n",
    "    for j in range(4):\n",
    "        ax = plt.subplot(4, 4, i*4+j+1)\n",
    "        plt.imshow(sample_images[i*4+j], interpolation=\"nearest\")\n",
    "        plt.title(sample_labels[i*4+j])\n",
    "        plt.axis(\"off\")\n"
   ]
  },
  {
   "cell_type": "code",
   "execution_count": null,
   "id": "bb723284-4fac-486c-8310-13157d011560",
   "metadata": {},
   "outputs": [],
   "source": []
  }
 ],
 "metadata": {
  "kernelspec": {
   "display_name": "Python 3 (ipykernel)",
   "language": "python",
   "name": "python3"
  },
  "language_info": {
   "codemirror_mode": {
    "name": "ipython",
    "version": 3
   },
   "file_extension": ".py",
   "mimetype": "text/x-python",
   "name": "python",
   "nbconvert_exporter": "python",
   "pygments_lexer": "ipython3",
   "version": "3.9.6"
  }
 },
 "nbformat": 4,
 "nbformat_minor": 5
}
