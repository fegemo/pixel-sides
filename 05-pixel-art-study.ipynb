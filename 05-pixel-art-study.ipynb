{
 "cells": [
  {
   "cell_type": "code",
   "execution_count": 1,
   "outputs": [],
   "source": [
    "import tensorflow as tf\n",
    "from configuration import *\n",
    "import io_utils"
   ],
   "metadata": {
    "collapsed": false,
    "pycharm": {
     "name": "#%%\n"
    }
   }
  },
  {
   "cell_type": "code",
   "execution_count": 2,
   "outputs": [],
   "source": [
    "def extract_dataset_colors(dataset_path):\n",
    "    dataset = tf.keras.utils.image_dataset_from_directory(\n",
    "        dataset_path,\n",
    "        labels=None,\n",
    "        color_mode=\"rgba\",\n",
    "        batch_size=None,\n",
    "        image_size=(IMG_SIZE, IMG_SIZE)\n",
    "    )\n",
    "\n",
    "    empty_image = tf.zeros([IMG_SIZE, IMG_SIZE, INPUT_CHANNELS])\n",
    "    image_of_whole_dataset = dataset.reduce(empty_image, lambda acc, image: tf.concat([acc, image], axis=0))\n",
    "\n",
    "    palette = io_utils.extract_palette(image_of_whole_dataset, INPUT_CHANNELS, None)\n",
    "    return palette"
   ],
   "metadata": {
    "collapsed": false,
    "pycharm": {
     "name": "#%%\n"
    }
   }
  },
  {
   "cell_type": "code",
   "execution_count": 3,
   "outputs": [
    {
     "name": "stdout",
     "output_type": "stream",
     "text": [
      "Found 7296 files belonging to 1 classes.\n",
      "tf.Tensor(\n",
      "[[  0   0   0   0]\n",
      " [  0   0   0   1]\n",
      " [  0   0   0   4]\n",
      " ...\n",
      " [250 250 250 255]\n",
      " [255 255 255 252]\n",
      " [255 255 255 255]], shape=(3437, 4), dtype=int32)\n"
     ]
    }
   ],
   "source": [
    "for folder in DATA_FOLDERS:\n",
    "    palette = extract_dataset_colors(folder)\n",
    "    print(\"Palette for \", folder, \": \", tf.shape(palette))"
   ],
   "metadata": {
    "collapsed": false,
    "pycharm": {
     "name": "#%%\n"
    }
   }
  }
 ],
 "metadata": {
  "kernelspec": {
   "display_name": "Python 3",
   "language": "python",
   "name": "python3"
  },
  "language_info": {
   "codemirror_mode": {
    "name": "ipython",
    "version": 2
   },
   "file_extension": ".py",
   "mimetype": "text/x-python",
   "name": "python",
   "nbconvert_exporter": "python",
   "pygments_lexer": "ipython2",
   "version": "2.7.6"
  }
 },
 "nbformat": 4,
 "nbformat_minor": 0
}